{
 "cells": [
  {
   "cell_type": "code",
   "execution_count": null,
   "id": "70dca7e6",
   "metadata": {},
   "outputs": [],
   "source": [
    "!pip install mne\n",
    "!pip install plotly==5.3.1\n",
    "!pip install pymatreader \n",
    "!pip install librosa\n",
    "!pip install yasa\n",
    "!pip install protobuf==3.19\n",
    "!pip install --upgrade pip"
   ]
  },
  {
   "cell_type": "code",
   "execution_count": null,
   "id": "e28d4566",
   "metadata": {},
   "outputs": [],
   "source": [
    "import pandas as pd\n",
    "import numpy as np\n",
    "import os\n",
    "import time\n",
    "import glob\n",
    "\n",
    "from scipy.io import wavfile, savemat\n",
    "from scipy.fft import fft, fftfreq\n",
    "from scipy import signal\n",
    "from scipy.fft import fftshift\n",
    "from scipy.io import loadmat\n",
    "from sklearn.model_selection import train_test_split\n",
    "\n",
    "from IPython.display import Audio, display\n",
    "from IPython.display import clear_output\n",
    "\n",
    "import librosa\n",
    "import mne\n",
    "import pymatreader\n",
    "import yasa\n",
    "import seaborn as sns\n",
    "import pyxdf\n",
    "\n",
    "from mne.time_frequency import psd_array_multitaper\n",
    "from mne.decoding import CSP\n",
    "from scipy.integrate import simps\n",
    "from yasa import sliding_window\n",
    "\n",
    "import plotly.express as px\n",
    "import matplotlib.pyplot as plt\n",
    "%matplotlib inline"
   ]
  },
  {
   "cell_type": "code",
   "execution_count": null,
   "id": "fec6c049",
   "metadata": {},
   "outputs": [],
   "source": [
    "# CNN packages\n",
    "from keras.models import Sequential\n",
    "from keras.layers.core import Dense, Dropout, Activation, Flatten\n",
    "from keras.layers.convolutional import Convolution2D, MaxPooling2D\n",
    "from keras.callbacks import ModelCheckpoint, EarlyStopping\n",
    "from keras.optimizers import SGD,RMSprop,Adam\n",
    "from keras.utils import np_utils\n",
    "from keras import regularizers\n",
    "from tensorflow.keras.models import Model\n",
    "from tensorflow.keras.layers import Dense, Activation, Permute, Dropout\n",
    "from tensorflow.keras.layers import Conv2D, MaxPooling2D, AveragePooling2D\n",
    "from tensorflow.keras.layers import SeparableConv2D, DepthwiseConv2D\n",
    "from tensorflow.keras.layers import BatchNormalization\n",
    "from tensorflow.keras.layers import SpatialDropout2D\n",
    "from tensorflow.keras.regularizers import l1_l2\n",
    "from tensorflow.keras.layers import Input, Flatten\n",
    "from tensorflow.keras.constraints import max_norm\n",
    "from tensorflow.keras import backend as K"
   ]
  },
  {
   "cell_type": "code",
   "execution_count": null,
   "id": "096ea700",
   "metadata": {},
   "outputs": [],
   "source": [
    "# Set gpu as backend\n",
    "import tensorflow as tf\n",
    "import keras\n",
    "config = tf.compat.v1.ConfigProto()\n",
    "sess = tf.compat.v1.Session(config=config)\n",
    "keras.backend.set_session(sess)"
   ]
  },
  {
   "cell_type": "code",
   "execution_count": null,
   "id": "38e07ed6",
   "metadata": {},
   "outputs": [],
   "source": [
    "# https://scikit-learn.org/stable/auto_examples/classification/plot_classifier_comparison.html\n",
    "from sklearn.neural_network import MLPClassifier\n",
    "from sklearn.neighbors import KNeighborsClassifier\n",
    "from sklearn.svm import SVC\n",
    "from sklearn.gaussian_process import GaussianProcessClassifier\n",
    "from sklearn.gaussian_process.kernels import RBF\n",
    "from sklearn.tree import DecisionTreeClassifier\n",
    "from sklearn.ensemble import RandomForestClassifier, AdaBoostClassifier\n",
    "from sklearn.naive_bayes import GaussianNB\n",
    "from sklearn.discriminant_analysis import QuadraticDiscriminantAnalysis\n",
    "from sklearn.model_selection import cross_val_score"
   ]
  },
  {
   "cell_type": "code",
   "execution_count": null,
   "id": "d5ed52d6",
   "metadata": {},
   "outputs": [],
   "source": [
    "from sklearn.pipeline import Pipeline, make_pipeline\n",
    "from sklearn.discriminant_analysis import LinearDiscriminantAnalysis\n",
    "from sklearn.svm import SVC\n",
    "from sklearn.model_selection import ShuffleSplit, cross_val_score\n",
    "from sklearn.preprocessing import StandardScaler"
   ]
  },
  {
   "cell_type": "markdown",
   "id": "0d6ef1fe",
   "metadata": {},
   "source": [
    "# Importing preprocessed data"
   ]
  },
  {
   "cell_type": "code",
   "execution_count": null,
   "id": "19f87152",
   "metadata": {},
   "outputs": [],
   "source": [
    "def get_trials():\n",
    "    trial_ctr_dict = {}\n",
    "    for x in events[1].keys():\n",
    "        if \"ActionBeg\" in x:\n",
    "            trial_ctr_dict[x[10:]] = 0\n",
    "    return trial_ctr_dict"
   ]
  },
  {
   "cell_type": "code",
   "execution_count": null,
   "id": "4a4f2563",
   "metadata": {},
   "outputs": [],
   "source": [
    "def get_event_info(marker_stream):\n",
    "    # Get audio info\n",
    "    event_time = {\"Name\": [], \"StartTime\": [], \"EndTime\": [], \"handPos\": [], \"Hand\": [], \"Action\": []}\n",
    "    for idx in range(len(marker_stream[0])):\n",
    "        marker_list = marker_stream[0][idx][2]\n",
    "        marker = list(marker_stream[1].keys())[list(marker_stream[1].values()).index(marker_list)]\n",
    "        if \"ActionBeg\" in marker:\n",
    "            start_time = marker_stream[0][idx][0]\n",
    "            end_time = marker_stream[0][idx+1][0]\n",
    "            action_name = marker[10:]\n",
    "            event_time[\"Name\"].append(action_name)\n",
    "            event_time[\"StartTime\"].append(start_time)\n",
    "            event_time[\"EndTime\"].append(end_time)\n",
    "            event_time[\"handPos\"].append(action_name.split(\"-\")[0])\n",
    "            event_time[\"Hand\"].append(action_name.split(\"-\")[1])\n",
    "            event_time[\"Action\"].append(action_name.split(\"-\")[2])\n",
    "    return event_time"
   ]
  },
  {
   "cell_type": "code",
   "execution_count": null,
   "id": "ba494b41",
   "metadata": {},
   "outputs": [],
   "source": [
    "def save_time_series_as_df(event_time, eeg_data, file_name):\n",
    "    eeg_df = []\n",
    "    channels = np.array([[x] for x in arr.ch_names])\n",
    "    trial_ctr_dict = get_trials()\n",
    "    for ts in range(len(event_time[\"Name\"])):\n",
    "        p_eeg  = eeg_data.iloc[event_time[\"StartTime\"][ts] - 25: event_time[\"StartTime\"][ts] + 500, 1:].T\n",
    "        handPos = np.array([[event_time[\"handPos\"][ts]]] * 64)\n",
    "        Hand = np.array([[event_time[\"Hand\"][ts]]] * 64)\n",
    "        Action = np.array([[event_time[\"Action\"][ts]]] * 64)\n",
    "        Subject = np.array([[file_name[:-4]]] * 64)\n",
    "        trial_type = event_time[\"handPos\"][ts] + \"-\" + event_time[\"Hand\"][ts] + \"-\" + event_time[\"Action\"][ts]\n",
    "        trial_ctr_dict[trial_type] += 1\n",
    "        Trial = np.array([[trial_ctr_dict[trial_type]]] * 64)\n",
    "        \n",
    "        # Apply baseline correction\n",
    "        p_eeg.iloc[:, :] = mne.baseline.rescale(p_eeg.to_numpy(), np.array(list(range(525))), baseline=(0, 25), mode=\"zscore\")\n",
    "\n",
    "        p_eeg = np.append(p_eeg, handPos, axis=1)\n",
    "        p_eeg = np.append(p_eeg, Hand, axis=1)\n",
    "        p_eeg = np.append(p_eeg, Action, axis=1)\n",
    "        p_eeg = np.append(p_eeg, Subject, axis=1)\n",
    "        p_eeg = np.append(p_eeg, channels, axis=1)\n",
    "        p_eeg = np.append(p_eeg, Trial, axis=1)\n",
    "        \n",
    "        \n",
    "        if len(eeg_df) == 0:\n",
    "            eeg_df = p_eeg\n",
    "        else: \n",
    "            try:\n",
    "                eeg_df = np.concatenate((eeg_df, p_eeg), axis=0)\n",
    "            except:\n",
    "                pass\n",
    "        print(eeg_df.shape)\n",
    "\n",
    "    return eeg_df "
   ]
  },
  {
   "cell_type": "code",
   "execution_count": null,
   "id": "40347a78",
   "metadata": {
    "scrolled": true
   },
   "outputs": [],
   "source": [
    "os.chdir(\"/mnt/sda1/shivam/Thesis/Grasp Experiment/Data/PreprocessedData/Preprocessedv2/\")\n",
    "print(\"Current directory: \", os.getcwd())\n",
    "data_files = glob.glob(\"*.set\")\n",
    "print(\"Files in current directory: \", data_files)\n",
    "eeg_df_main = []\n",
    "for file_name in data_files:\n",
    "    print(\"Current file: \", file_name)\n",
    "    arr = mne.io.read_raw_eeglab(file_name)\n",
    "    eeg_data = arr.to_data_frame()\n",
    "    events = mne.events_from_annotations(arr)\n",
    "    event_time = get_event_info(events)\n",
    "    eeg_df = save_time_series_as_df(event_time, eeg_data, file_name)\n",
    "    \n",
    "    if len(eeg_df_main) == 0:\n",
    "        eeg_df_main = eeg_df\n",
    "    else: \n",
    "        eeg_df_main = np.concatenate((eeg_df_main, eeg_df), axis=0)\n",
    "    print(eeg_df_main.shape)"
   ]
  },
  {
   "cell_type": "code",
   "execution_count": null,
   "id": "b7a50e50",
   "metadata": {},
   "outputs": [],
   "source": [
    "# row: 460800\n",
    "df = pd.DataFrame(eeg_df_main, columns=list(range(-100, 2000, 4))+[\"handPos\", \"Hand\", \"Action\", \"Subject\", \"Channel\", \"Trial\"])\n",
    "os.chdir(\"/mnt/sda1/shivam/Thesis/Grasp Experiment/Data/CleanSep/\")\n",
    "df.to_csv(\"cleaned_datav2.csv\", index=False, header=list(range(-100, 2000, 4))+[\"handPos\", \"Hand\", \"Action\", \"Subject\", \"Channel\", \"Trial\"])\n",
    "df"
   ]
  },
  {
   "cell_type": "code",
   "execution_count": null,
   "id": "e65693d6",
   "metadata": {},
   "outputs": [],
   "source": [
    "os.chdir(\"/mnt/sda1/shivam/Thesis/Grasp Experiment/Data/CleanSep/\")\n",
    "dataset = pd.read_csv(\"cleaned_datav2.csv\")\n",
    "dataset"
   ]
  },
  {
   "cell_type": "code",
   "execution_count": null,
   "id": "2015f9b0",
   "metadata": {},
   "outputs": [],
   "source": [
    "dataset.iloc[:, :-6]"
   ]
  },
  {
   "cell_type": "code",
   "execution_count": null,
   "id": "b6e3d410",
   "metadata": {},
   "outputs": [],
   "source": [
    "list(np.unique(list(dataset.iloc[:, -6])))"
   ]
  },
  {
   "cell_type": "code",
   "execution_count": null,
   "id": "c77aa322",
   "metadata": {},
   "outputs": [],
   "source": [
    "def save_time_series_mat(dataset):\n",
    "    subjects = list(np.unique(list(dataset.iloc[:, -3])))\n",
    "    conditions = list(np.unique(list(dataset.iloc[:, -6])))\n",
    "    for sub in subjects:\n",
    "        for palm in conditions:\n",
    "            for oc in [\"Open\", \"Close\"]:\n",
    "                for hand in [\"Left\", \"Right\"]:\n",
    "                    for i in range(40):\n",
    "                        test_sub_trial = dataset[\n",
    "                            (dataset[\"handPos\"] == palm) & \n",
    "                            (dataset[\"Action\"] == oc) & \n",
    "                            (dataset[\"Hand\"] == hand) & \n",
    "                            (dataset[\"Trial\"] == i+1) & \n",
    "                            (dataset[\"Subject\"] == sub)].iloc[:, :-6]\n",
    "                        if test_sub_trial.shape != (525, 64):\n",
    "                            continue\n",
    "                        test_sub_trial.index = test_sub_trial.iloc[:, -2]\n",
    "                        savename = str(sub + \"_\" + palm + \"_\" + oc + \"_\" + hand + \"_\" + str(i+1))\n",
    "                        savemat(\"Matv1/\" + savename+\".mat\", mdict={\"EEG\": test_sub_trial.to_numpy() })        \n",
    "\n",
    "os.chdir(\"/mnt/sda1/shivam/Thesis/Grasp Experiment/Data/PreprocessedData/Matlab\")\n",
    "save_time_series_mat(dataset)"
   ]
  },
  {
   "cell_type": "code",
   "execution_count": null,
   "id": "e9418648",
   "metadata": {},
   "outputs": [],
   "source": []
  },
  {
   "cell_type": "code",
   "execution_count": null,
   "id": "939347ac",
   "metadata": {},
   "outputs": [],
   "source": [
    "# def save_time_series_mat(audio_time, eeg_data, file_name):\n",
    "#     for ts in range(len(audio_time[\"Name\"])):\n",
    "#         p_eeg  = eeg_data.iloc[audio_time[\"StartTime\"][ts]: audio_time[\"EndTime\"][ts], 1:]\n",
    "#         save_name = file_name.split(\".\")[0] + \"_\" + str(audio_time[\"Name\"][ts]) + \"_\" + str(audio_time[\"Trial\"][ts]) + \"_\" + str(audio_time[\"Rating\"][ts]) + \".mat\"\n",
    "#         save_name = save_name.replace(\"-\", \"_\")\n",
    "#         savemat(\"mat/\" + save_name, mdict={\"EEG\": p_eeg.to_numpy() })"
   ]
  },
  {
   "cell_type": "code",
   "execution_count": null,
   "id": "9539b373",
   "metadata": {},
   "outputs": [],
   "source": []
  },
  {
   "cell_type": "markdown",
   "id": "b8afab83",
   "metadata": {},
   "source": [
    "# Common Spatial Patterns"
   ]
  },
  {
   "cell_type": "code",
   "execution_count": null,
   "id": "46e7b74c",
   "metadata": {},
   "outputs": [],
   "source": [
    "os.chdir(\"/mnt/sda1/shivam/Thesis/Grasp Experiment/Data/CleanSep/\")\n",
    "dataset = pd.read_csv(\"cleaned_datav2.csv\")\n",
    "dataset"
   ]
  },
  {
   "cell_type": "code",
   "execution_count": null,
   "id": "198046fa",
   "metadata": {},
   "outputs": [],
   "source": [
    "# 64 channel EEG data with 500 samples\n",
    "# Giving us X = N * 64 * 275 and y = N \n",
    "X, y = [], []\n",
    "nchan = 64\n",
    "new_dataset = dataset[~(dataset[\"Subject\"] == \"P01\")]\n",
    "iterations = len(dataset) // nchan\n",
    "for idx in range(iterations):\n",
    "    start = idx * nchan\n",
    "    end = (idx + 1) * nchan\n",
    "\n",
    "    X.append(np.expand_dims(dataset.iloc[start: end, :-6], 2))\n",
    "    y.append(dataset.iloc[start, -6])\n",
    "#     print(len(X), len(y))\n",
    "X = np.array(X)\n",
    "y = np.array(y)\n",
    "X.shape, y.shape"
   ]
  },
  {
   "cell_type": "code",
   "execution_count": null,
   "id": "1a741140",
   "metadata": {},
   "outputs": [],
   "source": [
    "from sklearn import preprocessing\n",
    "\n",
    "le = preprocessing.LabelEncoder()\n",
    "le.fit(y)\n",
    "yl = le.transform(y)\n",
    "yl"
   ]
  },
  {
   "cell_type": "code",
   "execution_count": null,
   "id": "ade4ffcc",
   "metadata": {},
   "outputs": [],
   "source": [
    "X.shape, y.shape, yl.shape"
   ]
  },
  {
   "cell_type": "code",
   "execution_count": null,
   "id": "50a2e086",
   "metadata": {},
   "outputs": [],
   "source": [
    "X_train, X_eval, y_train, y_eval = train_test_split(X[:, :, 60:124, 0], yl, test_size=0.25, random_state=42)\n",
    "X_train, X_test, y_train, y_test = train_test_split(X_train, y_train, test_size=0.25, random_state=42)\n",
    "X_train.shape, X_eval.shape, X_test.shape, y_train.shape, y_eval.shape, y_test.shape"
   ]
  },
  {
   "cell_type": "code",
   "execution_count": null,
   "id": "904bf6d1",
   "metadata": {},
   "outputs": [],
   "source": [
    "# X_red = np.array([x.T for x in X[:, :, :, 0]])\n",
    "X_red = X[:, :, :, 0]\n",
    "X_red.shape"
   ]
  },
  {
   "cell_type": "code",
   "execution_count": null,
   "id": "5224ca8a",
   "metadata": {},
   "outputs": [],
   "source": [
    "selected_channels = [6, 20, 28, 34, 35, 37, 39, 42, 50, 60]\n",
    "X_int = X[:, :, 25: 200 , :]\n",
    "X_int = X_int[:, :, :, 0]\n",
    "labels = yl\n",
    "X_int.shape, labels.shape"
   ]
  },
  {
   "cell_type": "code",
   "execution_count": null,
   "id": "3150eb1d",
   "metadata": {
    "scrolled": true
   },
   "outputs": [],
   "source": [
    "cv = ShuffleSplit(10, test_size=0.2, random_state=42)\n",
    "cv_split = cv.split(X)\n",
    "\n",
    "sfreq = 250\n",
    "w_length = int(sfreq * 0.5)   # running classifier: window length\n",
    "w_step = int(sfreq * 0.1)  # running classifier: window step size\n",
    "w_start = np.arange(0, X_int.shape[2] - w_length, w_step)\n",
    "print(w_start)\n",
    "scores_windows = []\n",
    "\n",
    "# Assemble a classifier\n",
    "scores = []\n",
    "clf = SVC(gamma='auto') #make_pipeline(StandardScaler(), SVC(gamma='auto'))\n",
    "lda = LinearDiscriminantAnalysis()\n",
    "csp = CSP(n_components=4, reg=None, log=True, norm_trace=False)\n",
    "\n",
    "for train_idx, test_idx in cv_split:\n",
    "    y_train, y_test = labels[train_idx], labels[test_idx]\n",
    "    X_train = csp.fit_transform(X_int[train_idx], y_train)\n",
    "    X_test = csp.transform(X_int[test_idx])\n",
    "    print(X_train.shape, X_test.shape)\n",
    "    plt.scatter(X_train, y_train)\n",
    "    \n",
    "#     # Wavelet decomposition\n",
    "#     X_train_feat = np.array(mne.time_frequency.morlet(250, [40], n_cycles=7)[0].imag / 20).reshape(1, -1)\n",
    "#     X_test_feat = np.array(mne.time_frequency.morlet(250, [40], n_cycles=7)[0].imag / 20).reshape(1, -1)\n",
    "    \n",
    "#     print(X_test_feat.shape)\n",
    "# #     print(X_train_feat[0].shape, len(X_test_feat))\n",
    "    \n",
    "#     # fit classifier\n",
    "# #     lda.fit(X_train, y_train)\n",
    "#     clf.fit(X_train_feat, y_train)\n",
    "    \n",
    "#     # running classifier: test classifier on sliding window\n",
    "#     score_this_window = []\n",
    "#     for n in w_start:\n",
    "#         X_test = csp.transform(X_int[test_idx][:, :, n:(n + w_length)])\n",
    "#         score_this_window.append(clf.score(X_test_feat, y_test))\n",
    "#     scores_windows.append(score_this_window)\n",
    "    "
   ]
  },
  {
   "cell_type": "code",
   "execution_count": null,
   "id": "8214cd41",
   "metadata": {},
   "outputs": [],
   "source": [
    "scores_windows"
   ]
  },
  {
   "cell_type": "code",
   "execution_count": null,
   "id": "81b4ab41",
   "metadata": {},
   "outputs": [],
   "source": [
    "X_train[:, [2, 3]].shape"
   ]
  },
  {
   "cell_type": "code",
   "execution_count": null,
   "id": "0cd2f3ef",
   "metadata": {},
   "outputs": [],
   "source": [
    "plt.scatter(X_train[y_train==0,0], X_train[y_train==0,1])\n",
    "plt.scatter(X_train[y_train==1,0], X_train[y_train==1,1])\n",
    "plt.show()"
   ]
  },
  {
   "cell_type": "code",
   "execution_count": null,
   "id": "9d09c2c9",
   "metadata": {},
   "outputs": [],
   "source": []
  },
  {
   "cell_type": "code",
   "execution_count": null,
   "id": "42045243",
   "metadata": {},
   "outputs": [],
   "source": []
  },
  {
   "cell_type": "code",
   "execution_count": null,
   "id": "02e986e2",
   "metadata": {},
   "outputs": [],
   "source": [
    "# https://github.com/spolsley/common-spatial-patterns\n",
    "# Common Spatial Pattern implementation in Python, used to build spatial filters for identifying task-related activity.\n",
    "import numpy as np\n",
    "import scipy.linalg as la\n",
    "\n",
    "# CSP takes any number of arguments, but each argument must be a collection of trials associated with a task\n",
    "# That is, for N tasks, N arrays are passed to CSP each with dimensionality (# of trials of task N) x (feature vector)\n",
    "# Trials may be of any dimension, provided that each trial for each task has the same dimensionality,\n",
    "# otherwise there can be no spatial filtering since the trials cannot be compared\n",
    "def CSP(*tasks):\n",
    "\tif len(tasks) < 2:\n",
    "\t\tprint(\"Must have at least 2 tasks for filtering.\")\n",
    "\t\treturn (None,) * len(tasks)\n",
    "\telse:\n",
    "\t\tfilters = ()\n",
    "\t\t# CSP algorithm\n",
    "\t\t# For each task x, find the mean variances Rx and not_Rx, which will be used to compute spatial filter SFx\n",
    "\t\titerator = range(0,len(tasks))\n",
    "\t\tfor x in iterator:\n",
    "\t\t\t# Find Rx\n",
    "\t\t\tRx = covarianceMatrix(tasks[x][0])\n",
    "\t\t\tfor t in range(1,len(tasks[x])):\n",
    "\t\t\t\tRx += covarianceMatrix(tasks[x][t])\n",
    "\t\t\tRx = Rx / len(tasks[x])\n",
    "\n",
    "\t\t\t# Find not_Rx\n",
    "\t\t\tcount = 0\n",
    "\t\t\tnot_Rx = Rx * 0\n",
    "\t\t\tfor not_x in [element for element in iterator if element != x]:\n",
    "\t\t\t\tfor t in range(0,len(tasks[not_x])):\n",
    "\t\t\t\t\tnot_Rx += covarianceMatrix(tasks[not_x][t])\n",
    "\t\t\t\t\tcount += 1\n",
    "\t\t\tnot_Rx = not_Rx / count\n",
    "\n",
    "\t\t\t# Find the spatial filter SFx\n",
    "\t\t\tSFx = spatialFilter(Rx,not_Rx)\n",
    "\t\t\tfilters += (SFx,)\n",
    "\n",
    "\t\t\t# Special case: only two tasks, no need to compute any more mean variances\n",
    "\t\t\tif len(tasks) == 2:\n",
    "\t\t\t\tfilters += (spatialFilter(not_Rx,Rx),)\n",
    "\t\t\t\tbreak\n",
    "\t\treturn filters\n",
    "\n",
    "# covarianceMatrix takes a matrix A and returns the covariance matrix, scaled by the variance\n",
    "def covarianceMatrix(A):\n",
    "\tCa = np.dot(A,np.transpose(A))/np.trace(np.dot(A,np.transpose(A)))\n",
    "\treturn Ca\n",
    "\n",
    "# spatialFilter returns the spatial filter SFa for mean covariance matrices Ra and Rb\n",
    "def spatialFilter(Ra,Rb):\n",
    "\tR = Ra + Rb\n",
    "\tE,U = la.eig(R)\n",
    "\n",
    "\t# CSP requires the eigenvalues E and eigenvector U be sorted in descending order\n",
    "\tord = np.argsort(E)\n",
    "\tord = ord[::-1] # argsort gives ascending order, flip to get descending\n",
    "\tE = E[ord]\n",
    "\tU = U[:,ord]\n",
    "\n",
    "\t# Find the whitening transformation matrix\n",
    "\tP = np.dot(np.sqrt(la.inv(np.diag(E))),np.transpose(U))\n",
    "\n",
    "\t# The mean covariance matrices may now be transformed\n",
    "\tSa = np.dot(P,np.dot(Ra,np.transpose(P)))\n",
    "\tSb = np.dot(P,np.dot(Rb,np.transpose(P)))\n",
    "\n",
    "\t# Find and sort the generalized eigenvalues and eigenvector\n",
    "\tE1,U1 = la.eig(Sa,Sb)\n",
    "\tord1 = np.argsort(E1)\n",
    "\tord1 = ord1[::-1]\n",
    "\tE1 = E1[ord1]\n",
    "\tU1 = U1[:,ord1]\n",
    "\n",
    "\t# The projection matrix (the spatial filter) may now be obtained\n",
    "\tSFa = np.dot(np.transpose(U1),P)\n",
    "\treturn SFa.astype(np.float32)"
   ]
  },
  {
   "cell_type": "code",
   "execution_count": null,
   "id": "2dfb8a52",
   "metadata": {},
   "outputs": [],
   "source": [
    "csp = CSP(X_red[yl==0], X_red[yl==1])"
   ]
  },
  {
   "cell_type": "code",
   "execution_count": null,
   "id": "ae4a25fa",
   "metadata": {},
   "outputs": [],
   "source": [
    "csp[0].shape"
   ]
  },
  {
   "cell_type": "code",
   "execution_count": null,
   "id": "0feddd49",
   "metadata": {},
   "outputs": [],
   "source": [
    "csp[0] - csp[1]"
   ]
  },
  {
   "cell_type": "code",
   "execution_count": null,
   "id": "f4be18e1",
   "metadata": {},
   "outputs": [],
   "source": []
  },
  {
   "cell_type": "code",
   "execution_count": null,
   "id": "298559a6",
   "metadata": {},
   "outputs": [],
   "source": []
  },
  {
   "cell_type": "code",
   "execution_count": null,
   "id": "f4575617",
   "metadata": {},
   "outputs": [],
   "source": []
  },
  {
   "cell_type": "code",
   "execution_count": null,
   "id": "ba81939e",
   "metadata": {},
   "outputs": [],
   "source": []
  },
  {
   "cell_type": "code",
   "execution_count": null,
   "id": "462f9b0b",
   "metadata": {},
   "outputs": [],
   "source": []
  },
  {
   "cell_type": "code",
   "execution_count": null,
   "id": "9ebc9b8e",
   "metadata": {},
   "outputs": [],
   "source": []
  },
  {
   "cell_type": "code",
   "execution_count": null,
   "id": "03f406f6",
   "metadata": {},
   "outputs": [],
   "source": []
  },
  {
   "cell_type": "markdown",
   "id": "5a2f1f9b",
   "metadata": {},
   "source": [
    "# ERP Analysis"
   ]
  },
  {
   "cell_type": "code",
   "execution_count": null,
   "id": "684763a4",
   "metadata": {},
   "outputs": [],
   "source": [
    "os.chdir(\"/mnt/sda1/shivam/Thesis/Grasp Experiment/Data/CleanSep/\")\n",
    "dataset = pd.read_csv(\"cleaned_datav2_1.csv\")\n",
    "dataset"
   ]
  },
  {
   "cell_type": "code",
   "execution_count": null,
   "id": "9a89d1ab",
   "metadata": {
    "scrolled": true
   },
   "outputs": [],
   "source": [
    "os.chdir(\"/mnt/sda1/shivam/Thesis/Grasp Experiment/Data/PreprocessedData/Preprocessedv2/\")\n",
    "arr = mne.io.read_raw_eeglab(\"P01.set\")\n",
    "#     eeg_data = arr.to_data_frame()\n",
    "channels = arr.ch_names#np.array([[x] for x in ])\n",
    "events = mne.events_from_annotations(arr)\n",
    "channels"
   ]
  },
  {
   "cell_type": "code",
   "execution_count": null,
   "id": "c5c265cf",
   "metadata": {},
   "outputs": [],
   "source": [
    "test_sub_trial = dataset[(dataset[\"handPos\"] == \"palmDown\") & (dataset[\"Action\"] == \"Open\") & (dataset[\"Hand\"] == \"Right\") & (dataset[\"Trial\"] == 1) & (dataset[\"Subject\"] == \"P01\")]\n",
    "test_sub_trial"
   ]
  },
  {
   "cell_type": "code",
   "execution_count": null,
   "id": "2bb1dfb1",
   "metadata": {
    "scrolled": true
   },
   "outputs": [],
   "source": [
    "conditions_dict = {}\n",
    "conds_trial_ctr = {}\n",
    "for x in events[1].keys():\n",
    "    if \"ActionBeg\" in x:\n",
    "        conditions_dict[x[10:]] = []\n",
    "        conds_trial_ctr[x[10:]] = 0\n",
    "conditions_dict, conds_trial_ctr"
   ]
  },
  {
   "cell_type": "code",
   "execution_count": null,
   "id": "1be79fd0",
   "metadata": {},
   "outputs": [],
   "source": [
    "for subs in [\"P01\", \"P02\", \"P03\", \"P04\"]:\n",
    "    for palm in [\"palmDown\", \"palmIn\", \"palmUp\"]:\n",
    "        for oc in [\"Open\", \"Close\"]:\n",
    "            for hand in [\"Left\", \"Right\"]:\n",
    "                for i in range(40):\n",
    "                    test_sub_trial = dataset[\n",
    "                        (dataset[\"handPos\"] == palm) & \n",
    "                        (dataset[\"Action\"] == oc) & \n",
    "                        (dataset[\"Hand\"] == hand) & \n",
    "                        (dataset[\"Trial\"] == i+1) & \n",
    "                        (dataset[\"Subject\"] == subs)]\n",
    "                    test_sub_trial.index = test_sub_trial.iloc[:, -2]\n",
    "                    name = palm + \"-\" + hand + \"-\" + oc \n",
    "                    if len(conditions_dict[name]) > 0:\n",
    "                        try:\n",
    "                            conditions_dict[name] += test_sub_trial.iloc[:, :-6].to_numpy()\n",
    "                        except:\n",
    "                            pass\n",
    "                    else:\n",
    "                        conditions_dict[name] = test_sub_trial.iloc[:, :-6].to_numpy()\n",
    "\n",
    "                    conds_trial_ctr[name] += 1\n",
    "                    (name, test_sub_trial.shape, test_sub_trial)"
   ]
  },
  {
   "cell_type": "code",
   "execution_count": null,
   "id": "afaa1bca",
   "metadata": {},
   "outputs": [],
   "source": [
    "conds_trial_ctr, conditions_dict"
   ]
  },
  {
   "cell_type": "code",
   "execution_count": null,
   "id": "07ff1364",
   "metadata": {},
   "outputs": [],
   "source": [
    "cond_dict_avg = {}\n",
    "for key in conditions_dict.keys():\n",
    "    cond_dict_avg[key] = conditions_dict[key] / conds_trial_ctr[key]\n",
    "cond_dict_avg"
   ]
  },
  {
   "cell_type": "code",
   "execution_count": null,
   "id": "b487400d",
   "metadata": {
    "scrolled": true
   },
   "outputs": [],
   "source": [
    "int_chan = 6\n",
    "for hand in [\"Right\"]:\n",
    "    for handPos in [\"palmDown\", \"palmIn\", \"palmUp\"]:\n",
    "        lines = []\n",
    "        posture = \"\"\n",
    "        \n",
    "        for key in cond_dict_avg.keys():\n",
    "            if handPos in key and hand in key:\n",
    "                lines.append(np.array(cond_dict_avg[key][int_chan, :200]))\n",
    "                posture += str(key.split(\"-\")[1:])\n",
    "        \n",
    "        fig = px.line(\n",
    "                np.array(lines).T, \n",
    "                title=handPos + \" \" + str(int_chan) + \" \" + hand, \n",
    "        )\n",
    "        print(posture)\n",
    "        fig.show()\n"
   ]
  },
  {
   "cell_type": "code",
   "execution_count": null,
   "id": "9c2cda3a",
   "metadata": {},
   "outputs": [],
   "source": []
  },
  {
   "cell_type": "code",
   "execution_count": null,
   "id": "90291edc",
   "metadata": {},
   "outputs": [],
   "source": [
    "# Plotting difference wave\n",
    "int_chan = 20\n",
    "for hand in [\"Left\", \"Right\"]:\n",
    "    for handPos in [\"palmDown\", \"palmIn\", \"palmUp\"]:\n",
    "        print(handPos + \"-\" + hand)\n",
    "        \n",
    "        open_arr = cond_dict_avg[handPos + \"-\" + hand + \"-\" + \"Open\"][int_chan, :200]\n",
    "        close_arr = cond_dict_avg[handPos + \"-\" + hand + \"-\" + \"Close\"][int_chan, :200]\n",
    "        \n",
    "        diff = np.expand_dims(np.array(open_arr - close_arr), 1)\n",
    "        final = diff\n",
    "        \n",
    "#         final = np.append(final, np.expand_dims(open_arr, axis=1), axis=1)\n",
    "#         final = np.append(final, np.expand_dims(close_arr, axis=1), axis=1)\n",
    "        print(final.shape)\n",
    "        \n",
    "        fig = px.line(\n",
    "                final, \n",
    "                title=handPos + \" \" + str(int_chan) + \" \" + hand, \n",
    "        )\n",
    "        fig.show()\n",
    "        "
   ]
  },
  {
   "cell_type": "code",
   "execution_count": null,
   "id": "92018672",
   "metadata": {
    "scrolled": true
   },
   "outputs": [],
   "source": [
    "int_chan = 42\n",
    "for hand in [\"Left\", \"Right\"]:\n",
    "    for handPos in [\"palmDown\", \"palmIn\", \"palmUp\"]:\n",
    "        lines = []\n",
    "        posture = \"\"\n",
    "        for key in cond_dict_avg.keys():\n",
    "            if handPos in key and hand in key:\n",
    "                lines.append(np.array(cond_dict_avg[key][int_chan, :175]))\n",
    "                posture += str(key.split(\"-\")[1:])\n",
    "        fig = px.line(\n",
    "                np.array(lines).T, \n",
    "                title=handPos + \" \" + str(int_chan) + \" \" + hand, \n",
    "            )\n",
    "        print(posture)\n",
    "        fig.show()\n"
   ]
  },
  {
   "cell_type": "code",
   "execution_count": null,
   "id": "5603d287",
   "metadata": {
    "scrolled": true
   },
   "outputs": [],
   "source": [
    "req_chans = [[12, 6, 60], [20, 50], [28, 34,42], [35, 39, 37]]\n",
    "for handPos in [\"palmDown\", \"palmIn\", \"palmUp\"]:\n",
    "    plot_lines = []\n",
    "    for chans in req_chans:\n",
    "        for key in cond_dict_avg.keys():\n",
    "            if handPos in key:\n",
    "                fig = px.line(\n",
    "                    cond_dict_avg[key][chans, :175].T, \n",
    "                    title=key + \" \" + str(chans), \n",
    "                )\n",
    "                fig.show()\n",
    "        "
   ]
  },
  {
   "cell_type": "code",
   "execution_count": null,
   "id": "ea80bd33",
   "metadata": {},
   "outputs": [],
   "source": [
    "cond_dict_avg[\"palmDown-Left-Close\"].shape"
   ]
  },
  {
   "cell_type": "code",
   "execution_count": null,
   "id": "309ad636",
   "metadata": {
    "scrolled": true
   },
   "outputs": [],
   "source": [
    "exclusions = [0, 4, 16]\n",
    "channels = [i if i not in exclusions else -1 for i in list(range(64))]\n",
    "for key in cond_dict_avg.keys():\n",
    "    fig = px.line(\n",
    "        cond_dict_avg[key][:, :175].T, \n",
    "        title=key, \n",
    "    )\n",
    "    fig.show()"
   ]
  },
  {
   "cell_type": "code",
   "execution_count": null,
   "id": "a3969b11",
   "metadata": {
    "scrolled": true
   },
   "outputs": [],
   "source": [
    "# Averaging over all hand positions. Taking only right hand open/close\n",
    "handPos = [\"palmDown\", \"palmIn\", \"palmUp\"]\n",
    "oc_erp = {\"Open\": [], \"Close\": []}\n",
    "for key in cond_dict_avg.keys():\n",
    "#     if \"Right\" in key: \n",
    "    if \"Open\" in key:\n",
    "        oc_erp[\"Open\"] = cond_dict_avg[key] if len(oc_erp[\"Open\"]) == 0 else oc_erp[\"Open\"] + cond_dict_avg[key]\n",
    "    if \"Close\" in key:\n",
    "        oc_erp[\"Close\"] = cond_dict_avg[key] if len(oc_erp[\"Close\"]) == 0 else oc_erp[\"Close\"] + cond_dict_avg[key]\n",
    "\n",
    "oc_erp"
   ]
  },
  {
   "cell_type": "code",
   "execution_count": null,
   "id": "1926901f",
   "metadata": {
    "scrolled": true
   },
   "outputs": [],
   "source": [
    "oc_erp_avg = {}\n",
    "for key in oc_erp.keys():\n",
    "    oc_erp_avg[key] = oc_erp[key] / 6\n",
    "oc_erp_avg"
   ]
  },
  {
   "cell_type": "code",
   "execution_count": null,
   "id": "03a051cb",
   "metadata": {},
   "outputs": [],
   "source": [
    "for key in oc_erp_avg.keys():\n",
    "    fig = px.line(\n",
    "        oc_erp_avg[key][:, :175].T, \n",
    "        title=key, \n",
    "    )\n",
    "    fig.show()"
   ]
  },
  {
   "cell_type": "code",
   "execution_count": null,
   "id": "f3d9067c",
   "metadata": {},
   "outputs": [],
   "source": []
  },
  {
   "cell_type": "code",
   "execution_count": null,
   "id": "c7833f4e",
   "metadata": {},
   "outputs": [],
   "source": []
  },
  {
   "cell_type": "code",
   "execution_count": null,
   "id": "21d31657",
   "metadata": {},
   "outputs": [],
   "source": []
  },
  {
   "cell_type": "code",
   "execution_count": null,
   "id": "59fd447b",
   "metadata": {},
   "outputs": [],
   "source": []
  },
  {
   "cell_type": "code",
   "execution_count": null,
   "id": "5434ec50",
   "metadata": {},
   "outputs": [],
   "source": []
  },
  {
   "cell_type": "code",
   "execution_count": null,
   "id": "fcec14d2",
   "metadata": {},
   "outputs": [],
   "source": []
  },
  {
   "cell_type": "markdown",
   "id": "c93f7e80",
   "metadata": {},
   "source": [
    "# Importing Data"
   ]
  },
  {
   "cell_type": "code",
   "execution_count": null,
   "id": "c9864044",
   "metadata": {},
   "outputs": [],
   "source": [
    "os.chdir(\"/mnt/sda1/shivam/Thesis/Grasp Experiment/Data/CleanSep/\")\n",
    "dataset = pd.read_csv(\"cleaned_datav2.csv\")\n",
    "dataset"
   ]
  },
  {
   "cell_type": "code",
   "execution_count": null,
   "id": "e4110db3",
   "metadata": {},
   "outputs": [],
   "source": [
    "# 64 channel EEG data with 500 samples\n",
    "# Giving us X = N * 64 * 275 and y = N \n",
    "X, y = [], []\n",
    "nchan = 64\n",
    "new_dataset = dataset[~(dataset[\"Subject\"] == \"P01\")]\n",
    "iterations = len(dataset) // nchan\n",
    "for idx in range(iterations):\n",
    "    start = idx * nchan\n",
    "    end = (idx + 1) * nchan\n",
    "\n",
    "    X.append(np.expand_dims(dataset.iloc[start: end, :-6], 2))\n",
    "    y.append(dataset.iloc[start, -6])\n",
    "#     print(len(X), len(y))\n",
    "X = np.array(X)\n",
    "y = np.array(y)\n",
    "X.shape, y.shape"
   ]
  },
  {
   "cell_type": "code",
   "execution_count": null,
   "id": "8e8ebc04",
   "metadata": {},
   "outputs": [],
   "source": [
    "y"
   ]
  },
  {
   "cell_type": "code",
   "execution_count": null,
   "id": "865eef9a",
   "metadata": {},
   "outputs": [],
   "source": [
    "from sklearn import preprocessing\n",
    "\n",
    "le = preprocessing.LabelEncoder()\n",
    "le.fit(y)\n",
    "yl = le.transform(y)\n",
    "yl"
   ]
  },
  {
   "cell_type": "code",
   "execution_count": null,
   "id": "9be0ef8a",
   "metadata": {},
   "outputs": [],
   "source": [
    "np.unique(yl)"
   ]
  },
  {
   "cell_type": "markdown",
   "id": "ae0d8c09",
   "metadata": {},
   "source": [
    "# Visualizing Data"
   ]
  },
  {
   "cell_type": "code",
   "execution_count": null,
   "id": "8b6b707e",
   "metadata": {},
   "outputs": [],
   "source": [
    "os.chdir(\"/mnt/sda1/shivam/Thesis/Grasp Experiment/Data/Plots/RawV5/\")\n",
    "for sub in [\"P01\", \"P02\", \"P03\", \"P04\"]:\n",
    "    for palm in [\"palmDown\", \"palmIn\", \"palmUp\"]:\n",
    "        for oc in [\"Open\", \"Close\"]:\n",
    "            for hand in [\"Left\", \"Right\"]:\n",
    "                for i in range(40):\n",
    "                    test_sub_trial = dataset[\n",
    "                        (dataset[\"handPos\"] == palm) & \n",
    "                        (dataset[\"Action\"] == oc) & \n",
    "                        (dataset[\"Hand\"] == hand) & \n",
    "                        (dataset[\"Trial\"] == i+1) & \n",
    "                        (dataset[\"Subject\"] == sub)]\n",
    "                    test_sub_trial.index = test_sub_trial.iloc[:, -2]\n",
    "                    fig = px.line(\n",
    "                        test_sub_trial.iloc[:, :-6].T, \n",
    "                        title=str(sub + palm + oc + hand + str(i)), \n",
    "                        labels=test_sub_trial.iloc[:, -2]\n",
    "                    )\n",
    "                    fig.write_image(sub + palm + oc + hand + str(i)+ \".png\") \n",
    "#                     fig.show()"
   ]
  },
  {
   "cell_type": "code",
   "execution_count": null,
   "id": "2e9e60b8",
   "metadata": {},
   "outputs": [],
   "source": [
    "dataset[\n",
    "        (dataset[\"handPos\"] == \"palmIn\") & \n",
    "        (dataset[\"Action\"] == \"Open\") & \n",
    "        (dataset[\"Hand\"] == \"Right\") & \n",
    "        (dataset[\"Trial\"] == 1) & \n",
    "        (dataset[\"Subject\"] == \"P01\")].iloc[:, :]"
   ]
  },
  {
   "cell_type": "code",
   "execution_count": null,
   "id": "dd8d9347",
   "metadata": {
    "scrolled": true
   },
   "outputs": [],
   "source": [
    "for i in range(40):\n",
    "    test_sub_trial = dataset[\n",
    "        (dataset[\"handPos\"] == \"palmIn\") & \n",
    "        (dataset[\"Action\"] == \"Open\") & \n",
    "        (dataset[\"Hand\"] == \"Right\") & \n",
    "        (dataset[\"Trial\"] == i+1) & \n",
    "        (dataset[\"Subject\"] == \"P01\")]\n",
    "    test_sub_trial.index = test_sub_trial.iloc[:, -2]\n",
    "    fig = px.line(\n",
    "        test_sub_trial.iloc[:, :150].T, \n",
    "        #title=str(sub + palm + oc + hand + str(i)), \n",
    "        title=\"Right\",\n",
    "        labels=test_sub_trial.iloc[:, -2]\n",
    "    )\n",
    "    #fig.write_image(sub + palm + oc + hand + str(i)+ \".png\") \n",
    "    fig.show()\n",
    "    test_sub_trial = dataset[\n",
    "        (dataset[\"handPos\"] == \"palmIn\") & \n",
    "        (dataset[\"Action\"] == \"Open\") & \n",
    "        (dataset[\"Hand\"] == \"Left\") & \n",
    "        (dataset[\"Trial\"] == i+1) & \n",
    "        (dataset[\"Subject\"] == \"P01\")]\n",
    "    test_sub_trial.index = test_sub_trial.iloc[:, -2]\n",
    "    fig = px.line(\n",
    "        test_sub_trial.iloc[:, :150].T, \n",
    "        #title=str(sub + palm + oc + hand + str(i)), \n",
    "        title=\"Left\",\n",
    "        labels=test_sub_trial.iloc[:, -2]\n",
    "    )\n",
    "    #fig.write_image(sub + palm + oc + hand + str(i)+ \".png\") \n",
    "    fig.show()"
   ]
  },
  {
   "cell_type": "markdown",
   "id": "45062b18",
   "metadata": {},
   "source": [
    "# Classification"
   ]
  },
  {
   "cell_type": "code",
   "execution_count": null,
   "id": "5188fff4",
   "metadata": {},
   "outputs": [],
   "source": [
    "X_train, X_eval, y_train, y_eval = train_test_split(X[:, :, 60:124], yl, test_size=0.25, random_state=42)\n",
    "X_train, X_test, y_train, y_test = train_test_split(X_train, y_train, test_size=0.25, random_state=42)\n",
    "X_train.shape, X_eval.shape, X_test.shape, y_train.shape, y_eval.shape, y_test.shape"
   ]
  },
  {
   "cell_type": "code",
   "execution_count": null,
   "id": "ecb798a2",
   "metadata": {},
   "outputs": [],
   "source": [
    "#https://github.com/vlawhern/arl-eegmodels\n",
    "def EEGNet(nb_classes, Chans = 64, Samples = 128, \n",
    "             dropoutRate = 0.5, kernLength = 125, F1 = 8, \n",
    "             D = 2, F2 = 16, norm_rate = 0.25, dropoutType = 'Dropout'):\n",
    "    \"\"\" Keras Implementation of EEGNet\n",
    "    http://iopscience.iop.org/article/10.1088/1741-2552/aace8c/meta\n",
    "    Note that this implements the newest version of EEGNet and NOT the earlier\n",
    "    version (version v1 and v2 on arxiv). We strongly recommend using this\n",
    "    architecture as it performs much better and has nicer properties than\n",
    "    our earlier version. For example:\n",
    "        \n",
    "        1. Depthwise Convolutions to learn spatial filters within a \n",
    "        temporal convolution. The use of the depth_multiplier option maps \n",
    "        exactly to the number of spatial filters learned within a temporal\n",
    "        filter. This matches the setup of algorithms like FBCSP which learn \n",
    "        spatial filters within each filter in a filter-bank. This also limits \n",
    "        the number of free parameters to fit when compared to a fully-connected\n",
    "        convolution. \n",
    "        \n",
    "        2. Separable Convolutions to learn how to optimally combine spatial\n",
    "        filters across temporal bands. Separable Convolutions are Depthwise\n",
    "        Convolutions followed by (1x1) Pointwise Convolutions. \n",
    "        \n",
    "    \n",
    "    While the original paper used Dropout, we found that SpatialDropout2D \n",
    "    sometimes produced slightly better results for classification of ERP \n",
    "    signals. However, SpatialDropout2D significantly reduced performance \n",
    "    on the Oscillatory dataset (SMR, BCI-IV Dataset 2A). We recommend using\n",
    "    the default Dropout in most cases.\n",
    "        \n",
    "    Assumes the input signal is sampled at 128Hz. If you want to use this model\n",
    "    for any other sampling rate you will need to modify the lengths of temporal\n",
    "    kernels and average pooling size in blocks 1 and 2 as needed (double the \n",
    "    kernel lengths for double the sampling rate, etc). Note that we haven't \n",
    "    tested the model performance with this rule so this may not work well. \n",
    "    \n",
    "    The model with default parameters gives the EEGNet-8,2 model as discussed\n",
    "    in the paper. This model should do pretty well in general, although it is\n",
    "\tadvised to do some model searching to get optimal performance on your\n",
    "\tparticular dataset.\n",
    "    We set F2 = F1 * D (number of input filters = number of output filters) for\n",
    "    the SeparableConv2D layer. We haven't extensively tested other values of this\n",
    "    parameter (say, F2 < F1 * D for compressed learning, and F2 > F1 * D for\n",
    "    overcomplete). We believe the main parameters to focus on are F1 and D. \n",
    "    Inputs:\n",
    "        \n",
    "      nb_classes      : int, number of classes to classify\n",
    "      Chans, Samples  : number of channels and time points in the EEG data\n",
    "      dropoutRate     : dropout fraction\n",
    "      kernLength      : length of temporal convolution in first layer. We found\n",
    "                        that setting this to be half the sampling rate worked\n",
    "                        well in practice. For the SMR dataset in particular\n",
    "                        since the data was high-passed at 4Hz we used a kernel\n",
    "                        length of 32.     \n",
    "      F1, F2          : number of temporal filters (F1) and number of pointwise\n",
    "                        filters (F2) to learn. Default: F1 = 8, F2 = F1 * D. \n",
    "      D               : number of spatial filters to learn within each temporal\n",
    "                        convolution. Default: D = 2\n",
    "      dropoutType     : Either SpatialDropout2D or Dropout, passed as a string.\n",
    "    \"\"\"\n",
    "    \n",
    "    if dropoutType == 'SpatialDropout2D':\n",
    "        dropoutType = SpatialDropout2D\n",
    "    elif dropoutType == 'Dropout':\n",
    "        dropoutType = Dropout\n",
    "    else:\n",
    "        raise ValueError('dropoutType must be one of SpatialDropout2D '\n",
    "                         'or Dropout, passed as a string.')\n",
    "    \n",
    "    input1   = Input(shape = (Chans, Samples, 1))\n",
    "\n",
    "    ##################################################################\n",
    "    block1       = Conv2D(F1, (1, kernLength), padding = 'same',\n",
    "                                   input_shape = (Chans, Samples, 1),\n",
    "                                   use_bias = False)(input1)\n",
    "    block1       = BatchNormalization()(block1)\n",
    "    block1       = DepthwiseConv2D((Chans, 1), use_bias = False, \n",
    "                                   depth_multiplier = D,\n",
    "                                   depthwise_constraint = max_norm(1.))(block1)\n",
    "    block1       = BatchNormalization()(block1)\n",
    "    block1       = Activation('elu')(block1)\n",
    "    block1       = AveragePooling2D((1, 4))(block1)\n",
    "    block1       = dropoutType(dropoutRate)(block1)\n",
    "    \n",
    "    block2       = SeparableConv2D(F2, (1, 16),\n",
    "                                   use_bias = False, padding = 'same')(block1)\n",
    "    block2       = BatchNormalization()(block2)\n",
    "    block2       = Activation('elu')(block2)\n",
    "    block2       = AveragePooling2D((1, 8))(block2)\n",
    "    block2       = dropoutType(dropoutRate)(block2)\n",
    "        \n",
    "    flatten      = Flatten(name = 'flatten')(block2)\n",
    "    \n",
    "    dense        = Dense(1, name = 'dense', \n",
    "                         kernel_constraint = max_norm(norm_rate))(flatten)\n",
    "    softmax      = Activation('sigmoid', name = 'sigmoid')(dense)\n",
    "    \n",
    "    return Model(inputs=input1, outputs=softmax)\n",
    "\n",
    "model = EEGNet(2, 64, 64)\n",
    "model.summary()"
   ]
  },
  {
   "cell_type": "code",
   "execution_count": null,
   "id": "67a4de4f",
   "metadata": {},
   "outputs": [],
   "source": [
    "model.compile(loss='categorical_crossentropy', optimizer='adam', \n",
    "              metrics = ['accuracy'])\n",
    "\n",
    "# count number of parameters in the model\n",
    "numParams = model.count_params()    \n",
    "\n",
    "# set a valid path for your system to record model checkpoints\n",
    "checkpoint_filepath = \"/tmp/checkpoint/\"\n",
    "checkpointer = ModelCheckpoint(\n",
    "        filepath=checkpoint_filepath, \n",
    "        save_weights_only=True,\n",
    "        monitor=\"val_accuracy\",\n",
    "        mode=\"max\",\n",
    "        save_best_only=True\n",
    ")\n",
    "\n",
    "# Handle class imbalance\n",
    "class_weights = {0:1, 1:1}"
   ]
  },
  {
   "cell_type": "code",
   "execution_count": null,
   "id": "338be10e",
   "metadata": {},
   "outputs": [],
   "source": [
    "################################################################################\n",
    "# fit the model. Due to very small sample sizes this can get\n",
    "# pretty noisy run-to-run, but most runs should be comparable to xDAWN + \n",
    "# Riemannian geometry classification (below)\n",
    "################################################################################\n",
    "batch_size = 512\n",
    "EPOCHS = 100\n",
    "history = model.fit(\n",
    "    X_train, \n",
    "    y_train, \n",
    "    batch_size = batch_size, \n",
    "    epochs = EPOCHS, \n",
    "    validation_data=(X_eval, y_eval),\n",
    "    callbacks=[checkpointer], \n",
    "#     class_weight = class_weights\n",
    ")"
   ]
  },
  {
   "cell_type": "code",
   "execution_count": null,
   "id": "16c0e8fd",
   "metadata": {
    "scrolled": true
   },
   "outputs": [],
   "source": [
    "plt.plot(history.history[\"accuracy\"])\n",
    "plt.plot(history.history[\"val_accuracy\"])\n",
    "plt.show()\n",
    "plt.plot(history.history[\"loss\"])\n",
    "plt.plot(history.history[\"val_loss\"])\n",
    "plt.show()"
   ]
  },
  {
   "cell_type": "code",
   "execution_count": null,
   "id": "e4f780ef",
   "metadata": {},
   "outputs": [],
   "source": [
    "model.load_weights(checkpoint_filepath)\n",
    "model.save('/mnt/sda1/shivam/Thesis/Grasp Experiment/Data/Models/model-eegnet-v2')"
   ]
  },
  {
   "cell_type": "code",
   "execution_count": null,
   "id": "d582e0e4",
   "metadata": {},
   "outputs": [],
   "source": [
    "new_model = tf.keras.models.load_model('/mnt/sda1/shivam/Thesis/Grasp Experiment/Data/Models/model-eegnet-v2')\n",
    "\n",
    "y_pred = np.argmax(new_model.predict(X_test), axis=1)\n",
    "y_true = y_test\n",
    "test_acc = sum(y_pred == y_true) / len(y_true)\n",
    "print(f'Test set accuracy main: {test_acc:.0%}')"
   ]
  },
  {
   "cell_type": "code",
   "execution_count": null,
   "id": "cf2a4abd",
   "metadata": {},
   "outputs": [],
   "source": [
    "print(\"Max train accuracy: \", max(history.history[\"accuracy\"]))\n",
    "print(\"Max validation accuracy: \", max(history.history[\"val_accuracy\"]))"
   ]
  },
  {
   "cell_type": "code",
   "execution_count": null,
   "id": "bd2920f3",
   "metadata": {},
   "outputs": [],
   "source": []
  },
  {
   "cell_type": "code",
   "execution_count": null,
   "id": "1afcfa76",
   "metadata": {},
   "outputs": [],
   "source": [
    "# Multitaper method\n",
    "def bandpower_multitaper(data, sf, method, band, relative=False):\n",
    "    band = np.asarray(band)\n",
    "    low, high = band\n",
    "\n",
    "    if method == 'multitaper':\n",
    "        psd_trial, freqs = psd_array_multitaper(data, sf, adaptive=True,\n",
    "                                                normalization='full', verbose=0)\n",
    "    # Frequency resolution\n",
    "    freq_res = freqs[1] - freqs[0]\n",
    "\n",
    "    # Find index of band in frequency vector\n",
    "    idx_band = np.logical_and(freqs >= low, freqs <= high)\n",
    "\n",
    "    # Integral approximation of the spectrum using parabola (Simpson's rule)\n",
    "    bp = simps(psd_trial[idx_band], dx=freq_res)\n",
    "\n",
    "    return bp\n"
   ]
  },
  {
   "cell_type": "code",
   "execution_count": null,
   "id": "5d4f158c",
   "metadata": {},
   "outputs": [],
   "source": [
    "def create_bandpower_features(epochs, frequency):\n",
    "    bandpower_multitaper_EEG = []\n",
    "    # Iterating over each subject [20]\n",
    "    for epoch in epochs:\n",
    "        # Iterating over each song per subject [30]\n",
    "        bands_video = []\n",
    "        no_channels = epoch.shape[0]\n",
    "        input_brainwaves = epoch\n",
    "        # Iterating over each channel [14]\n",
    "        for k in range(no_channels):\n",
    "            bands_video.append(bandpower_multitaper(input_brainwaves[k,:], sf=frequency, method='multitaper',\n",
    "                                                    band=[0.1, 4], relative=False))\n",
    "            bands_video.append(bandpower_multitaper(input_brainwaves[k,:], sf=frequency, method='multitaper',\n",
    "                                                    band=[4, 7], relative=False))\n",
    "            bands_video.append(bandpower_multitaper(input_brainwaves[k,:], sf=frequency, method='multitaper',\n",
    "                                                    band=[8, 13], relative=False))\n",
    "            bands_video.append(bandpower_multitaper(input_brainwaves[k,:], sf=frequency, method='multitaper',\n",
    "                                                    band=[14, 30], relative=False))\n",
    "            bands_video.append(bandpower_multitaper(input_brainwaves[k,:], sf=frequency, method='multitaper',\n",
    "                                                    band=[31, 50], relative=False))\n",
    "        \n",
    "#         print(len(bands_video), bands_video[-1].shape, bands_video)\n",
    "        \n",
    "        bandpower_multitaper_EEG.append(bands_video)\n",
    "\n",
    "    bandpower_multitaper_EEG = np.array(bandpower_multitaper_EEG)\n",
    "  \n",
    "    return bandpower_multitaper_EEG"
   ]
  },
  {
   "cell_type": "code",
   "execution_count": null,
   "id": "c1bf43e9",
   "metadata": {
    "scrolled": true
   },
   "outputs": [],
   "source": [
    "sf = 250\n",
    "window = 0.5\n",
    "psd_features = []\n",
    "X_req =  X[:, :, 35:161, 0]\n",
    "for x in X_req:\n",
    "    epoch = sliding_window(x, sf=sf, window=window, step=window)[1]\n",
    "    psd = create_bandpower_features(epoch, sf)\n",
    "    if len(psd_features) == 0:\n",
    "        psd_features = psd\n",
    "    else:\n",
    "        psd_features = np.concatenate((psd_features, psd))\n",
    "    print(psd_features.shape)"
   ]
  },
  {
   "cell_type": "code",
   "execution_count": null,
   "id": "5f502692",
   "metadata": {},
   "outputs": [],
   "source": [
    "os.chdir('/mnt/sda1/shivam/Thesis/Grasp Experiment/Data')\n",
    "np.save(\"IntData/psd_features_v2_2.npy\", psd_features)"
   ]
  },
  {
   "cell_type": "code",
   "execution_count": null,
   "id": "5bd4ccd1",
   "metadata": {},
   "outputs": [],
   "source": [
    "os.chdir('/mnt/sda1/shivam/Thesis/Grasp Experiment/Data/IntData/')\n",
    "psd_labels = []\n",
    "for y in yl:\n",
    "    psd_labels += [y] * 1\n",
    "np.save(\"psd_labels_v2_2.npy\", psd_labels)"
   ]
  },
  {
   "cell_type": "code",
   "execution_count": null,
   "id": "c3f955f0",
   "metadata": {},
   "outputs": [],
   "source": [
    "np.unique(yl)"
   ]
  },
  {
   "cell_type": "code",
   "execution_count": null,
   "id": "f2ea1678",
   "metadata": {},
   "outputs": [],
   "source": [
    "os.chdir('/mnt/sda1/shivam/Thesis/Grasp Experiment/Data/IntData/')\n",
    "psd_labels = []\n",
    "for y in yl:\n",
    "    psd_labels += [y] * 1\n",
    "np.save(\"psd_labels_pos_v2_2.npy\", psd_labels)"
   ]
  },
  {
   "cell_type": "code",
   "execution_count": null,
   "id": "e4cc1962",
   "metadata": {},
   "outputs": [],
   "source": [
    "os.chdir('/mnt/sda1/shivam/Thesis/Grasp Experiment/Data/IntData/')\n",
    "X, y = np.load(\"psd_features_v2_2.npy\"), np.load(\"psd_labels_v2_2.npy\")\n",
    "X.shape, y.shape # ((1920, 320), (1920,))"
   ]
  },
  {
   "cell_type": "code",
   "execution_count": null,
   "id": "cc4d8ffe",
   "metadata": {},
   "outputs": [],
   "source": [
    "X[:, 3:5].shape"
   ]
  },
  {
   "cell_type": "code",
   "execution_count": null,
   "id": "dbaf43d7",
   "metadata": {
    "scrolled": true
   },
   "outputs": [],
   "source": [
    "# With select channels\n",
    "# selected_channels = [6, 20, 28, 34, 35, 37, 39, 42, 50, 60]\n",
    "X_sel = []\n",
    "for i in range(64):\n",
    "    start = i * 5\n",
    "    end = (i+1) * 5\n",
    "    if i in selected_channels:\n",
    "        if len(X_sel) == 0:\n",
    "            X_sel = X[:, start:end]\n",
    "        else:\n",
    "            X_sel = np.concatenate((X_sel, X[:, start:end]), axis=1)\n",
    "\n",
    "X_sel = np.array(X_sel)\n",
    "X_sel.shape, X_sel"
   ]
  },
  {
   "cell_type": "code",
   "execution_count": null,
   "id": "328c437c",
   "metadata": {},
   "outputs": [],
   "source": [
    "X_train, X_eval, y_train, y_eval = train_test_split(X[:480, :], y[:480], test_size=0.1, random_state=42)\n",
    "X_train, X_test, y_train, y_test = train_test_split(X_train, y_train, test_size=0.1, random_state=42)\n",
    "X_train.shape, X_eval.shape, X_test.shape, y_train.shape, y_eval.shape, y_test.shape"
   ]
  },
  {
   "cell_type": "code",
   "execution_count": null,
   "id": "16348d54",
   "metadata": {},
   "outputs": [],
   "source": [
    "np.unique(y_train)"
   ]
  },
  {
   "cell_type": "code",
   "execution_count": null,
   "id": "7a3ff202",
   "metadata": {},
   "outputs": [],
   "source": [
    "# source : https://scikit-learn.org/stable/auto_examples/classification/plot_classifier_comparison.html\n",
    "\n",
    "clfs = [\n",
    "    KNeighborsClassifier(2),\n",
    "    # SVC(kernel=\"linear\", C=0.025),\n",
    "    SVC(gamma=2, C=1),\n",
    "    # GaussianProcessClassifier(1.0 * RBF(1.0)),\n",
    "    DecisionTreeClassifier(max_depth=2000),\n",
    "    RandomForestClassifier(max_depth=2000, n_estimators=100, max_features=1),\n",
    "    MLPClassifier(alpha=1, max_iter=2000),\n",
    "    AdaBoostClassifier(),\n",
    "    GaussianNB(),\n",
    "    QuadraticDiscriminantAnalysis()\n",
    "]\n",
    "\n",
    "names = [\n",
    "    \"Nearest Neighbors\",\n",
    "    # \"Linear SVM\",\n",
    "    \"RBF SVM\",\n",
    "    # \"Gaussian Process\",\n",
    "    \"Decision Tree\",\n",
    "    \"Random Forest\",\n",
    "    \"Neural Net\",\n",
    "    \"AdaBoost\",\n",
    "    \"Naive Bayes\",\n",
    "    \"QDA\",\n",
    "]\n"
   ]
  },
  {
   "cell_type": "code",
   "execution_count": null,
   "id": "fa4f35be",
   "metadata": {},
   "outputs": [],
   "source": [
    "results = []\n",
    "for idx,clf in enumerate(clfs):\n",
    "    clf.fit(X_train[:, [3, 4]], y_train)\n",
    "    score = clf.score(X_test[:, [3, 4]], y_test)\n",
    "    results.append([names[idx], score])\n",
    "    print(names[idx], score)"
   ]
  },
  {
   "cell_type": "markdown",
   "id": "65f59b22",
   "metadata": {},
   "source": [
    "# Time-Frequency"
   ]
  },
  {
   "cell_type": "code",
   "execution_count": null,
   "id": "38d53a44",
   "metadata": {},
   "outputs": [],
   "source": [
    "os.chdir(\"/mnt/sda1/shivam/Thesis/Grasp Experiment/Data/PreprocessedData/Matlab/spectopov1/\")\n",
    "processed = glob.glob(\"*.mat\")\n",
    "len(processed), processed"
   ]
  },
  {
   "cell_type": "code",
   "execution_count": null,
   "id": "4151cdc1",
   "metadata": {},
   "outputs": [],
   "source": [
    "data = loadmat(\"P03_palmIn_Close_Left_13_spec.mat\")[\"spectra\"]\n",
    "data.shape"
   ]
  },
  {
   "cell_type": "code",
   "execution_count": null,
   "id": "9e6efa31",
   "metadata": {},
   "outputs": [],
   "source": [
    "grasp_dict = {\"Open\": 0, \"Close\": 1}"
   ]
  },
  {
   "cell_type": "code",
   "execution_count": null,
   "id": "b40eb83d",
   "metadata": {},
   "outputs": [],
   "source": [
    "X, y = [], []\n",
    "for mat in processed:\n",
    "    data = loadmat(mat)[\"spectra\"]\n",
    "    data = np.expand_dims(data, 3)\n",
    "    print(data.shape)\n",
    "    if len(X) > 0:\n",
    "        X = np.concatenate((X, data))\n",
    "    else:\n",
    "        X = data\n",
    "\n",
    "    label = grasp_dict[mat.split(\"_\")[2]]\n",
    "    y += [label] * data.shape[0] \n",
    "\n",
    "    print(X.shape, len(y))\n",
    "    assert(X.shape[0] == len(y)), mat"
   ]
  },
  {
   "cell_type": "code",
   "execution_count": null,
   "id": "5ffaff27",
   "metadata": {},
   "outputs": [],
   "source": [
    "X.shape, len(y)"
   ]
  },
  {
   "cell_type": "code",
   "execution_count": null,
   "id": "8ab76dc5",
   "metadata": {
    "scrolled": true
   },
   "outputs": [],
   "source": [
    "for i in range(10):\n",
    "    idx = np.random.randint(10080)\n",
    "    plt.pcolormesh(X[idx][:, :,0])\n",
    "    print(y[idx])\n",
    "    plt.show()"
   ]
  },
  {
   "cell_type": "code",
   "execution_count": null,
   "id": "971e4fc9",
   "metadata": {},
   "outputs": [],
   "source": [
    "y = np.array(y)\n",
    "y.shape"
   ]
  },
  {
   "cell_type": "code",
   "execution_count": null,
   "id": "dab114fc",
   "metadata": {},
   "outputs": [],
   "source": [
    "X_train, X_eval, y_train, y_eval = train_test_split(X[:, :, 24:, :], y[:], test_size=0.2, random_state=42)\n",
    "X_train, X_test, y_train, y_test = train_test_split(X_train, y_train, test_size=0.2, random_state=42)\n",
    "X_train.shape, X_eval.shape, X_test.shape, y_train.shape, y_eval.shape, y_test.shape"
   ]
  },
  {
   "cell_type": "code",
   "execution_count": null,
   "id": "c777623f",
   "metadata": {},
   "outputs": [],
   "source": [
    "# X_eval, X_train, y_eval, y_train = train_test_split(X, y, test_size=0.2, random_state=42)\n",
    "# X_test, X_eval, y_test, y_eval = train_test_split(X_eval, y_eval, test_size=0.2, random_state=42)\n",
    "\n",
    "# X_train.shape, X_eval.shape, X_test.shape, y_train.shape, y_eval.shape, y_test.shape"
   ]
  },
  {
   "cell_type": "code",
   "execution_count": null,
   "id": "b2678a8c",
   "metadata": {},
   "outputs": [],
   "source": [
    "def create_checkpoint():\n",
    "    checkpoint_filepath = '/tmp/checkpoint/'\n",
    "    model_checkpoint_callback = tf.keras.callbacks.ModelCheckpoint(\n",
    "        filepath=checkpoint_filepath,\n",
    "        save_weights_only=True,\n",
    "        monitor='val_accuracy',\n",
    "        mode='max',\n",
    "        save_best_only=True)\n",
    "    return checkpoint_filepath, model_checkpoint_callback\n",
    "\n",
    "checkpoint_filepath, model_checkpoint_callback = create_checkpoint()\n",
    "checkpoint_filepath"
   ]
  },
  {
   "cell_type": "code",
   "execution_count": null,
   "id": "719b3c90",
   "metadata": {
    "scrolled": true
   },
   "outputs": [],
   "source": [
    "def create_model():\n",
    "    model = Sequential()\n",
    "    \n",
    "    model.add(Convolution2D(32,(3, 3), input_shape=(64, 41, 1), activation=\"relu\"))\n",
    "    model.add(MaxPooling2D(pool_size=(2, 2)))\n",
    "    \n",
    "    model.add(Convolution2D(64,(3, 3), activation=\"relu\"))\n",
    "    model.add(MaxPooling2D(pool_size=(2, 2)))\n",
    "    \n",
    "    model.add(Convolution2D(256,(3, 3), activation=\"relu\"))\n",
    "    model.add(MaxPooling2D(pool_size=(2, 2)))\n",
    "    \n",
    "#     model.add(Convolution2D(512,(3, 3), activation=\"relu\"))\n",
    "#     model.add(MaxPooling2D(pool_size=(2, 2)))\n",
    "\n",
    "    model.add(Flatten())  \n",
    "#     model.add(Dense(1024, activation=\"relu\"))\n",
    "#     model.add(Dropout(.5))\n",
    "    \n",
    "    model.add(Dense(256, activation=\"relu\"))\n",
    "    model.add(Dropout(.5))\n",
    "    \n",
    "    model.add(Dense(1, activation=\"sigmoid\"))\n",
    "    \n",
    "    model.compile(loss=\"binary_crossentropy\", optimizer=\"adam\",metrics=[\"accuracy\"])\n",
    "    \n",
    "    model.summary()\n",
    "    return model\n",
    "\n",
    "model = create_model()"
   ]
  },
  {
   "cell_type": "code",
   "execution_count": null,
   "id": "380ab8e3",
   "metadata": {
    "scrolled": true
   },
   "outputs": [],
   "source": [
    "batch_size = 512\n",
    "EPOCHS = 50\n",
    "history = model.fit(\n",
    "    X_train,\n",
    "    y_train,\n",
    "    batch_size=batch_size,\n",
    "    epochs=EPOCHS,\n",
    "    validation_data=(X_eval, y_eval),\n",
    "    callbacks=[model_checkpoint_callback],\n",
    "    verbose=1\n",
    ")"
   ]
  },
  {
   "cell_type": "code",
   "execution_count": null,
   "id": "3dcf20e9",
   "metadata": {
    "scrolled": true
   },
   "outputs": [],
   "source": [
    "plt.plot(history.history[\"accuracy\"])\n",
    "plt.plot(history.history[\"val_accuracy\"])\n",
    "plt.show()\n",
    "plt.plot(history.history[\"loss\"])\n",
    "plt.plot(history.history[\"val_loss\"])\n",
    "plt.show()"
   ]
  },
  {
   "cell_type": "code",
   "execution_count": null,
   "id": "1e7e28a0",
   "metadata": {},
   "outputs": [],
   "source": [
    "model.load_weights(checkpoint_filepath)\n",
    "# model.save('/mnt/sda1/shivam/DrummingEEG/FullStudyData/Models/model-v2')"
   ]
  },
  {
   "cell_type": "code",
   "execution_count": null,
   "id": "ef28676e",
   "metadata": {},
   "outputs": [],
   "source": [
    "# new_model = tf.keras.models.load_model('/mnt/sda1/shivam/DrummingEEG/FullStudyData/Models/model-v2')\n",
    "\n",
    "y_pred = np.argmax(model.predict(X_test), axis=1)\n",
    "y_true = y_test\n",
    "test_acc = sum(y_pred == y_true) / len(y_true)\n",
    "print(f'Test set accuracy main: {test_acc:.0%}')"
   ]
  },
  {
   "cell_type": "code",
   "execution_count": null,
   "id": "61d0de0f",
   "metadata": {},
   "outputs": [],
   "source": []
  },
  {
   "cell_type": "code",
   "execution_count": null,
   "id": "7dd220ec",
   "metadata": {},
   "outputs": [],
   "source": []
  },
  {
   "cell_type": "markdown",
   "id": "7dbd3d47",
   "metadata": {},
   "source": [
    "# Dimensionality Reduction"
   ]
  },
  {
   "cell_type": "markdown",
   "id": "553e5e9b",
   "metadata": {},
   "source": [
    "# t-SNE"
   ]
  },
  {
   "cell_type": "code",
   "execution_count": null,
   "id": "b3e347bf",
   "metadata": {},
   "outputs": [],
   "source": [
    "os.chdir('/mnt/sda1/shivam/Thesis/Grasp Experiment/Data/IntData/')\n",
    "X, y = np.load(\"psd_features_v2_2.npy\"), np.load(\"psd_labels_pos_v2_2.npy\")\n",
    "X.shape, y.shape # ((1920, 320), (1920,))"
   ]
  },
  {
   "cell_type": "code",
   "execution_count": null,
   "id": "4ef3463c",
   "metadata": {},
   "outputs": [],
   "source": [
    "dataset_embedded = TSNE(\n",
    "        n_components=3, \n",
    "        learning_rate=\"auto\", \n",
    "        init=\"random\", \n",
    "        perplexity=8\n",
    "    ).fit_transform(X)"
   ]
  },
  {
   "cell_type": "code",
   "execution_count": null,
   "id": "e526faaa",
   "metadata": {},
   "outputs": [],
   "source": [
    "dataset_embedded.shape"
   ]
  },
  {
   "cell_type": "code",
   "execution_count": null,
   "id": "d27b2eee",
   "metadata": {},
   "outputs": [],
   "source": [
    "fig = px.scatter_3d(dataset_embedded, x=0, y=1, z=2, color=0)\n",
    "fig.show()"
   ]
  },
  {
   "cell_type": "code",
   "execution_count": null,
   "id": "50b23730",
   "metadata": {},
   "outputs": [],
   "source": [
    "from sklearn.manifold import TSNE\n",
    "tsne = TSNE()\n",
    "perplexity = range(0, 41, 4)\n",
    "for per in perplexity:\n",
    "    dataset_embedded = TSNE(\n",
    "        n_components=2, \n",
    "        learning_rate=\"auto\", \n",
    "        init=\"random\", \n",
    "        perplexity=per\n",
    "    ).fit_transform(X)\n",
    "    \n",
    "    print(\"Perplexity: \", per)\n",
    "    plt.scatter(dataset_embedded[y==0,0], dataset_embedded[y==0,1])\n",
    "    plt.scatter(dataset_embedded[y==1,0], dataset_embedded[y==1,1])\n",
    "#     plt.scatter(dataset_embedded[y==2,0], dataset_embedded[y==2,1])\n",
    "    plt.show()"
   ]
  },
  {
   "cell_type": "markdown",
   "id": "b3693a2c",
   "metadata": {},
   "source": [
    "# PCA"
   ]
  },
  {
   "cell_type": "code",
   "execution_count": null,
   "id": "9c323979",
   "metadata": {},
   "outputs": [],
   "source": [
    "os.chdir('/mnt/sda1/shivam/Thesis/Grasp Experiment/Data/IntData/')\n",
    "X, y = np.load(\"psd_features_v2_2.npy\"), np.load(\"psd_labels_v2_2.npy\")\n",
    "X.shape, y.shape # ((1920, 320), (1920,))"
   ]
  },
  {
   "cell_type": "code",
   "execution_count": null,
   "id": "556385c7",
   "metadata": {},
   "outputs": [],
   "source": [
    "np.unique(y)"
   ]
  },
  {
   "cell_type": "code",
   "execution_count": null,
   "id": "0c9f9489",
   "metadata": {
    "scrolled": true
   },
   "outputs": [],
   "source": [
    "list(range(10, 320, 10))"
   ]
  },
  {
   "cell_type": "code",
   "execution_count": null,
   "id": "f9947f0e",
   "metadata": {
    "scrolled": true
   },
   "outputs": [],
   "source": [
    "# PCA\n",
    "from sklearn.decomposition import PCA\n",
    "feature_size = range(320, 10, 10)\n",
    "for n_comp in list(range(10, 320, 10)):\n",
    "    pca = PCA(n_components=n_comp)\n",
    "    X_r = pca.fit(X).transform(X)\n",
    "    X_train, X_eval, y_train, y_eval = train_test_split(X_r, y, test_size=0.15, random_state=42)\n",
    "    X_train, X_test, y_train, y_test = train_test_split(X_train, y_train, test_size=0.1, random_state=42)\n",
    "    print(\"NUMBER OF COMPONENTS: \", n_comp)\n",
    "    for idx,clf in enumerate(clfs):\n",
    "        clf.fit(X_train, y_train)\n",
    "        score = clf.score(X_test, y_test)\n",
    "        print(\"\\t\", names[idx], score)"
   ]
  },
  {
   "cell_type": "code",
   "execution_count": null,
   "id": "4e6cebc1",
   "metadata": {},
   "outputs": [],
   "source": [
    "# X_train, X_eval, y_train, y_eval = train_test_split(X_r, y, test_size=0.15, random_state=42)\n",
    "# X_train, X_test, y_train, y_test = train_test_split(X_train, y_train, test_size=0.1, random_state=42)\n",
    "# X_train.shape, X_eval.shape, X_test.shape, y_train.shape, y_eval.shape, y_test.shape"
   ]
  },
  {
   "cell_type": "code",
   "execution_count": null,
   "id": "11513342",
   "metadata": {},
   "outputs": [],
   "source": [
    "results = []\n",
    "for idx,clf in enumerate(clfs):\n",
    "    clf.fit(X_train, y_train)\n",
    "    score = clf.score(X_test, y_test)\n",
    "    results.append([names[idx], score])\n",
    "    print(names[idx], score)"
   ]
  },
  {
   "cell_type": "markdown",
   "id": "2b770b86",
   "metadata": {},
   "source": [
    "# SVD"
   ]
  },
  {
   "cell_type": "code",
   "execution_count": null,
   "id": "0dcfe53b",
   "metadata": {},
   "outputs": [],
   "source": [
    "# truncatedSVD iterative\n",
    "from sklearn.decomposition import TruncatedSVD\n",
    "os.chdir('/mnt/sda1/shivam/Thesis/Grasp Experiment/Data/IntData/')\n",
    "X, y = np.load(\"psd_features_v3_1.npy\"), np.load(\"psd_labels_v3_1.npy\")\n",
    "\n",
    "feature_size = range(320, 10, 10)\n",
    "for n_components in list(range(10, 320, 10)):\n",
    "    \n",
    "    svd = TruncatedSVD(n_components, n_iter=7, random_state=42)\n",
    "    X_r = svd.fit(X).transform(X)\n",
    "    \n",
    "    X_train, X_eval, y_train, y_eval = train_test_split(X_r, y, test_size=0.15, random_state=42)\n",
    "    X_train, X_test, y_train, y_test = train_test_split(X_train, y_train, test_size=0.1, random_state=42)\n",
    "    \n",
    "    print(\"NUMBER OF COMPONENTS: \", n_components)\n",
    "    for idx,clf in enumerate(clfs):\n",
    "        clf.fit(X_train, y_train)\n",
    "        score = clf.score(X_test, y_test)\n",
    "        print(\"\\t\", names[idx], score)"
   ]
  },
  {
   "cell_type": "code",
   "execution_count": null,
   "id": "a38ed98b",
   "metadata": {},
   "outputs": [],
   "source": []
  },
  {
   "cell_type": "code",
   "execution_count": null,
   "id": "40c53a8c",
   "metadata": {},
   "outputs": [],
   "source": []
  },
  {
   "cell_type": "code",
   "execution_count": null,
   "id": "0f3839a1",
   "metadata": {},
   "outputs": [],
   "source": []
  },
  {
   "cell_type": "code",
   "execution_count": null,
   "id": "8d748778",
   "metadata": {},
   "outputs": [],
   "source": []
  },
  {
   "cell_type": "code",
   "execution_count": null,
   "id": "f300d509",
   "metadata": {},
   "outputs": [],
   "source": []
  },
  {
   "cell_type": "code",
   "execution_count": null,
   "id": "9aa16072",
   "metadata": {},
   "outputs": [],
   "source": []
  },
  {
   "cell_type": "code",
   "execution_count": null,
   "id": "a7ec97e4",
   "metadata": {},
   "outputs": [],
   "source": []
  }
 ],
 "metadata": {
  "kernelspec": {
   "display_name": "Python 3 (ipykernel)",
   "language": "python",
   "name": "python3"
  },
  "language_info": {
   "codemirror_mode": {
    "name": "ipython",
    "version": 3
   },
   "file_extension": ".py",
   "mimetype": "text/x-python",
   "name": "python",
   "nbconvert_exporter": "python",
   "pygments_lexer": "ipython3",
   "version": "3.9.12"
  }
 },
 "nbformat": 4,
 "nbformat_minor": 5
}
