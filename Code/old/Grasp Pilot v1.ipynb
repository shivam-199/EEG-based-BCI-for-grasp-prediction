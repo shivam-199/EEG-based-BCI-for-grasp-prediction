{
 "cells": [
  {
   "cell_type": "code",
   "execution_count": null,
   "id": "11206650",
   "metadata": {},
   "outputs": [],
   "source": [
    "!pip install mne\n",
    "!pip install plotly\n",
    "!pip install pymatreader \n",
    "!pip install librosa\n",
    "!pip install yasa\n",
    "!pip install protobuf==3.19\n",
    "!pip install --upgrade pip\n",
    "!pip uninstall tensorflow\n",
    "!pip install tensorflow"
   ]
  },
  {
   "cell_type": "code",
   "execution_count": null,
   "id": "d7414530",
   "metadata": {},
   "outputs": [],
   "source": [
    "!pip install plotly==5.3.1"
   ]
  },
  {
   "cell_type": "code",
   "execution_count": null,
   "id": "1d32ca0e",
   "metadata": {},
   "outputs": [],
   "source": [
    "import pandas as pd\n",
    "import numpy as np\n",
    "import os\n",
    "import time\n",
    "import glob\n",
    "\n",
    "from scipy.io import wavfile, savemat\n",
    "from scipy.fft import fft, fftfreq\n",
    "from scipy import signal\n",
    "from scipy.fft import fftshift\n",
    "from scipy.io import loadmat\n",
    "from sklearn.model_selection import train_test_split\n",
    "\n",
    "from IPython.display import Audio, display\n",
    "from IPython.display import clear_output\n",
    "\n",
    "import librosa\n",
    "import mne\n",
    "import pymatreader\n",
    "import yasa\n",
    "import seaborn as sns\n",
    "import pyxdf\n",
    "\n",
    "from mne.time_frequency import psd_array_multitaper\n",
    "from scipy.integrate import simps\n",
    "from yasa import sliding_window\n",
    "\n",
    "import plotly.express as px\n",
    "import matplotlib.pyplot as plt\n",
    "%matplotlib inline"
   ]
  },
  {
   "cell_type": "code",
   "execution_count": null,
   "id": "ba413791",
   "metadata": {},
   "outputs": [],
   "source": [
    "# CNN packages\n",
    "from keras.models import Sequential\n",
    "from keras.layers.core import Dense, Dropout, Activation, Flatten\n",
    "from keras.layers.convolutional import Convolution2D, MaxPooling2D\n",
    "from keras.callbacks import ModelCheckpoint, EarlyStopping\n",
    "from keras.optimizers import SGD,RMSprop,Adam\n",
    "from keras.utils import np_utils\n",
    "from keras import regularizers"
   ]
  },
  {
   "cell_type": "code",
   "execution_count": null,
   "id": "9bdb748c",
   "metadata": {},
   "outputs": [],
   "source": [
    "# Set gpu as backend\n",
    "import tensorflow as tf\n",
    "import keras\n",
    "config = tf.compat.v1.ConfigProto()\n",
    "sess = tf.compat.v1.Session(config=config)\n",
    "keras.backend.set_session(sess)"
   ]
  },
  {
   "cell_type": "code",
   "execution_count": null,
   "id": "cb4ebd30",
   "metadata": {},
   "outputs": [],
   "source": [
    "from tensorflow.keras.models import Model\n",
    "from tensorflow.keras.layers import Dense, Activation, Permute, Dropout\n",
    "from tensorflow.keras.layers import Conv2D, MaxPooling2D, AveragePooling2D\n",
    "from tensorflow.keras.layers import SeparableConv2D, DepthwiseConv2D\n",
    "from tensorflow.keras.layers import BatchNormalization\n",
    "from tensorflow.keras.layers import SpatialDropout2D\n",
    "from tensorflow.keras.regularizers import l1_l2\n",
    "from tensorflow.keras.layers import Input, Flatten\n",
    "from tensorflow.keras.constraints import max_norm\n",
    "from tensorflow.keras import backend as K"
   ]
  },
  {
   "cell_type": "markdown",
   "id": "271b356d",
   "metadata": {},
   "source": [
    "# Importing preprocessed data"
   ]
  },
  {
   "cell_type": "code",
   "execution_count": null,
   "id": "d8c30aa1",
   "metadata": {},
   "outputs": [],
   "source": [
    "os.chdir(\"/mnt/sda1/shivam/Thesis/Grasp Experiment/Data/Preprocessedv5/\")\n",
    "os.getcwd()"
   ]
  },
  {
   "cell_type": "code",
   "execution_count": null,
   "id": "b7687091",
   "metadata": {},
   "outputs": [],
   "source": [
    "files = glob.glob(\"*.set\")\n",
    "files"
   ]
  },
  {
   "cell_type": "code",
   "execution_count": null,
   "id": "ad02262a",
   "metadata": {},
   "outputs": [],
   "source": [
    "def get_trials():\n",
    "    trial_ctr_dict = {}\n",
    "    for x in events[1].keys():\n",
    "        if \"ActionBeg\" in x:\n",
    "            trial_ctr_dict[x[10:]] = 0\n",
    "    return trial_ctr_dict"
   ]
  },
  {
   "cell_type": "code",
   "execution_count": null,
   "id": "9045b563",
   "metadata": {},
   "outputs": [],
   "source": [
    "def get_event_info(marker_stream):\n",
    "    # Get audio info\n",
    "    event_time = {\"Name\": [], \"StartTime\": [], \"EndTime\": [], \"handPos\": [], \"Hand\": [], \"Action\": []}\n",
    "    for idx in range(len(marker_stream[0])):\n",
    "        marker_list = marker_stream[0][idx][2]\n",
    "        marker = list(marker_stream[1].keys())[list(marker_stream[1].values()).index(marker_list)]\n",
    "        if \"ActionBeg\" in marker:\n",
    "            start_time = marker_stream[0][idx][0]\n",
    "            end_time = marker_stream[0][idx+1][0]\n",
    "            action_name = marker[10:]\n",
    "            event_time[\"Name\"].append(action_name)\n",
    "            event_time[\"StartTime\"].append(start_time)\n",
    "            event_time[\"EndTime\"].append(end_time)\n",
    "            event_time[\"handPos\"].append(action_name.split(\"-\")[0])\n",
    "            event_time[\"Hand\"].append(action_name.split(\"-\")[1])\n",
    "            event_time[\"Action\"].append(action_name.split(\"-\")[2])\n",
    "    return event_time"
   ]
  },
  {
   "cell_type": "code",
   "execution_count": null,
   "id": "1fa4cf4b",
   "metadata": {},
   "outputs": [],
   "source": [
    "def save_time_series_as_df(event_time, eeg_data, file_name):\n",
    "    eeg_df = []\n",
    "    channels = np.array([[x] for x in arr.ch_names])\n",
    "    trial_ctr_dict = get_trials()\n",
    "    for ts in range(len(event_time[\"Name\"])):\n",
    "        p_eeg  = eeg_data.iloc[event_time[\"StartTime\"][ts] - 25: event_time[\"StartTime\"][ts] + 500, 1:].T\n",
    "        handPos = np.array([[event_time[\"handPos\"][ts]]] * 64)\n",
    "        Hand = np.array([[event_time[\"Hand\"][ts]]] * 64)\n",
    "        Action = np.array([[event_time[\"Action\"][ts]]] * 64)\n",
    "        Subject = np.array([[file_name[:-4]]] * 64)\n",
    "        trial_type = event_time[\"handPos\"][ts] + \"-\" + event_time[\"Hand\"][ts] + \"-\" + event_time[\"Action\"][ts]\n",
    "        trial_ctr_dict[trial_type] += 1\n",
    "        Trial = np.array([[trial_ctr_dict[trial_type]]] * 64)\n",
    "\n",
    "        p_eeg = np.append(p_eeg, handPos, axis=1)\n",
    "        p_eeg = np.append(p_eeg, Hand, axis=1)\n",
    "        p_eeg = np.append(p_eeg, Action, axis=1)\n",
    "        p_eeg = np.append(p_eeg, Subject, axis=1)\n",
    "        p_eeg = np.append(p_eeg, channels, axis=1)\n",
    "        p_eeg = np.append(p_eeg, Trial, axis=1)\n",
    "\n",
    "        if len(eeg_df) == 0:\n",
    "            eeg_df = p_eeg\n",
    "        else: \n",
    "            try:\n",
    "                eeg_df = np.concatenate((eeg_df, p_eeg), axis=0)\n",
    "            except:\n",
    "                pass\n",
    "        print(eeg_df.shape)\n",
    "\n",
    "    return eeg_df "
   ]
  },
  {
   "cell_type": "code",
   "execution_count": null,
   "id": "a98acf50",
   "metadata": {
    "scrolled": true
   },
   "outputs": [],
   "source": [
    "os.chdir(\"/mnt/sda1/shivam/Thesis/Grasp Experiment/Data/PreprocessedData/Preprocessedv5/\")\n",
    "print(\"Current directory: \", os.getcwd())\n",
    "data_files = glob.glob(\"*.set\")\n",
    "print(\"Files in current directory: \", data_files)\n",
    "eeg_df_main = []\n",
    "for file_name in data_files:\n",
    "    print(\"Current file: \", file_name)\n",
    "    arr = mne.io.read_raw_eeglab(file_name)\n",
    "    eeg_data = arr.to_data_frame()\n",
    "    events = mne.events_from_annotations(arr)\n",
    "    event_time = get_event_info(events)\n",
    "    event_time\n",
    "    eeg_df = save_time_series_as_df(event_time, eeg_data, file_name)\n",
    "    \n",
    "    if len(eeg_df_main) == 0:\n",
    "        eeg_df_main = eeg_df\n",
    "    else: \n",
    "        eeg_df_main = np.concatenate((eeg_df_main, eeg_df), axis=0)\n",
    "    print(eeg_df_main.shape)"
   ]
  },
  {
   "cell_type": "code",
   "execution_count": null,
   "id": "a2f8968f",
   "metadata": {},
   "outputs": [],
   "source": [
    "df = pd.DataFrame(eeg_df_main, columns=list(range(-100, 2000, 4))+[\"handPos\", \"Hand\", \"Action\", \"Subject\", \"Channel\", \"Trial\"])\n",
    "os.chdir(\"/mnt/sda1/shivam/Thesis/Grasp Experiment/Data/CleanSep/\")\n",
    "df.to_csv(\"cleaned_datav5.csv\", index=False, header=list(range(-100, 2000, 4))+[\"handPos\", \"Hand\", \"Action\", \"Subject\", \"Channel\", \"Trial\"])\n",
    "df"
   ]
  },
  {
   "cell_type": "markdown",
   "id": "c0d94f50",
   "metadata": {},
   "source": [
    "# Importing Data"
   ]
  },
  {
   "cell_type": "code",
   "execution_count": null,
   "id": "dad66e5b",
   "metadata": {},
   "outputs": [],
   "source": [
    "os.chdir(\"/mnt/sda1/shivam/Thesis/Grasp Experiment/Data/CleanSep/\")\n",
    "dataset = pd.read_csv(\"cleaned_datav3.csv\")\n",
    "dataset"
   ]
  },
  {
   "cell_type": "code",
   "execution_count": null,
   "id": "1356ba70",
   "metadata": {},
   "outputs": [],
   "source": [
    "dataset[~(dataset[\"Subject\"] == \"P01\")]"
   ]
  },
  {
   "cell_type": "code",
   "execution_count": null,
   "id": "dc03cd71",
   "metadata": {},
   "outputs": [],
   "source": [
    "dataset[(dataset[\"Subject\"] == \"P01\")]"
   ]
  },
  {
   "cell_type": "code",
   "execution_count": null,
   "id": "9ce117d0",
   "metadata": {},
   "outputs": [],
   "source": [
    "# 64 channel EEG data with 500 samples\n",
    "# Giving us X = N * 64 * 275 and y = N \n",
    "X, y = [], []\n",
    "nchan = 64\n",
    "new_dataset = dataset[~(dataset[\"Subject\"] == \"P01\")]\n",
    "iterations = len(new_dataset) // nchan\n",
    "for idx in range(iterations):\n",
    "    start = idx * nchan\n",
    "    end = (idx + 1) * nchan\n",
    "\n",
    "    X.append(np.expand_dims(new_dataset.iloc[start: end, :-6], 2))\n",
    "    y.append(new_dataset.iloc[start, -4])\n",
    "#     print(len(X), len(y))\n",
    "X = np.array(X)\n",
    "y = np.array(y)\n",
    "X.shape, y.shape"
   ]
  },
  {
   "cell_type": "code",
   "execution_count": null,
   "id": "bc0b023d",
   "metadata": {},
   "outputs": [],
   "source": [
    "print(y)"
   ]
  },
  {
   "cell_type": "code",
   "execution_count": null,
   "id": "a20a3b14",
   "metadata": {},
   "outputs": [],
   "source": [
    "from sklearn import preprocessing\n",
    "\n",
    "le = preprocessing.LabelEncoder()\n",
    "le.fit(y)\n",
    "yl = le.transform(y)\n",
    "yl"
   ]
  },
  {
   "cell_type": "markdown",
   "id": "9189ba99",
   "metadata": {},
   "source": [
    "# ERP Analysis"
   ]
  },
  {
   "cell_type": "code",
   "execution_count": null,
   "id": "3bd66697",
   "metadata": {},
   "outputs": [],
   "source": [
    "os.chdir(\"/mnt/sda1/shivam/Thesis/Grasp Experiment/Data/CleanSep/\")\n",
    "dataset = pd.read_csv(\"cleaned_datav2.csv\")\n",
    "dataset"
   ]
  },
  {
   "cell_type": "code",
   "execution_count": null,
   "id": "f1d6834e",
   "metadata": {
    "scrolled": true
   },
   "outputs": [],
   "source": [
    "os.chdir(\"/mnt/sda1/shivam/Thesis/Grasp Experiment/Data/PreprocessedData/Preprocessedv5/\")\n",
    "arr = mne.io.read_raw_eeglab(\"P01.set\")\n",
    "#     eeg_data = arr.to_data_frame()\n",
    "channels = arr.ch_names#np.array([[x] for x in ])\n",
    "events = mne.events_from_annotations(arr)\n",
    "channels"
   ]
  },
  {
   "cell_type": "code",
   "execution_count": null,
   "id": "19359e7a",
   "metadata": {},
   "outputs": [],
   "source": [
    "trial_ctr_dict = {}\n",
    "for x in events[1].keys():\n",
    "    if \"ActionBeg\" in x:\n",
    "        trial_ctr_dict[x[10:]] = []\n",
    "trial_ctr_dict"
   ]
  },
  {
   "cell_type": "code",
   "execution_count": null,
   "id": "4eb53f85",
   "metadata": {},
   "outputs": [],
   "source": [
    "# Subject P02\n",
    "for palm in [\"palmDown\", \"palmIn\", \"palmUp\"]:\n",
    "    for oc in [\"Open\", \"Close\"]:\n",
    "        for hand in [\"Right\"]:\n",
    "            for i in range(40):\n",
    "                test_sub_trial = dataset[\n",
    "                    (dataset[\"handPos\"] == palm) & \n",
    "                    (dataset[\"Action\"] == oc) & \n",
    "                    (dataset[\"Hand\"] == hand) & \n",
    "                    (dataset[\"Trial\"] == i+1) & \n",
    "                    (dataset[\"Subject\"] == \"P03\")]\n",
    "                test_sub_trial.index = test_sub_trial.iloc[:, -2]\n",
    "                name = palm + \"-\" + hand + \"-\" + oc \n",
    "                if len(trial_ctr_dict[name]) == 0:\n",
    "                    trial_ctr_dict[name] = test_sub_trial.iloc[:, :-6].to_numpy()\n",
    "                else:\n",
    "                    trial_ctr_dict[name] += test_sub_trial.iloc[:, :-6].to_numpy()\n",
    "                (name, test_sub_trial.shape, test_sub_trial)"
   ]
  },
  {
   "cell_type": "code",
   "execution_count": null,
   "id": "be39f946",
   "metadata": {
    "scrolled": true
   },
   "outputs": [],
   "source": [
    "trial_ctr_dict_avg = {}\n",
    "for key in trial_ctr_dict.keys():\n",
    "    try:\n",
    "        trial_ctr_dict_avg[key] = trial_ctr_dict[key] / 40\n",
    "    except:\n",
    "        pass\n",
    "trial_ctr_dict_avg"
   ]
  },
  {
   "cell_type": "code",
   "execution_count": null,
   "id": "533e944a",
   "metadata": {
    "scrolled": true
   },
   "outputs": [],
   "source": [
    "trial_ctr_dict"
   ]
  },
  {
   "cell_type": "code",
   "execution_count": null,
   "id": "970bb207",
   "metadata": {
    "scrolled": true
   },
   "outputs": [],
   "source": [
    "exclusions = [0, 4, 16]\n",
    "# channels = [i if i not in exclusions else -1 for i in list(range(64))]\n",
    "chans = [3, 13, 20, 40, 56]\n",
    "for key in trial_ctr_dict_avg.keys():\n",
    "    fig = px.line(\n",
    "        trial_ctr_dict_avg[key][:, :200].T, \n",
    "        title=key, \n",
    "    )\n",
    "    fig.show()"
   ]
  },
  {
   "cell_type": "code",
   "execution_count": null,
   "id": "d31c33ff",
   "metadata": {
    "scrolled": true
   },
   "outputs": [],
   "source": [
    "channels = [6]\n",
    "# plt_1 = plt.figure(figsize=(10, 8))\n",
    "# for channels in range(64):\n",
    "for key in trial_ctr_dict_avg.keys():\n",
    "    if \"Open\" in key:\n",
    "        plt.plot(trial_ctr_dict_avg[key][channels, :150].T, \"b\")\n",
    "    elif \"Close\" in key:\n",
    "        plt.plot(trial_ctr_dict_avg[key][channels, :150].T, \"g\")\n",
    "\n",
    "# plt.legend([ \"Open\", \"Close\"])\n",
    "plt.title(channels)\n",
    "plt.show()"
   ]
  },
  {
   "cell_type": "code",
   "execution_count": null,
   "id": "cea4fca6",
   "metadata": {},
   "outputs": [],
   "source": []
  },
  {
   "cell_type": "code",
   "execution_count": null,
   "id": "78d34a8d",
   "metadata": {},
   "outputs": [],
   "source": []
  },
  {
   "cell_type": "markdown",
   "id": "26142a0e",
   "metadata": {},
   "source": [
    "# Visualizing Data"
   ]
  },
  {
   "cell_type": "code",
   "execution_count": null,
   "id": "8467c7ea",
   "metadata": {
    "scrolled": true
   },
   "outputs": [],
   "source": [
    "test_sub_trial = dataset[(dataset[\"handPos\"] == \"palmDown\") & (dataset[\"Action\"] == \"Open\") & (dataset[\"Hand\"] == \"Right\") & (dataset[\"Trial\"] == 1) & (dataset[\"Subject\"] == \"P01\")]\n",
    "test_sub_trial"
   ]
  },
  {
   "cell_type": "code",
   "execution_count": null,
   "id": "87fd1a7e",
   "metadata": {},
   "outputs": [],
   "source": [
    "os.getcwd()"
   ]
  },
  {
   "cell_type": "code",
   "execution_count": null,
   "id": "9b7ae1c1",
   "metadata": {},
   "outputs": [],
   "source": [
    "os.chdir(\"/mnt/sda1/shivam/Thesis/Grasp Experiment/Data/Plots/RawV3/\")\n",
    "for sub in [\"P01\", \"P02\", \"P03\", \"P04\"]:\n",
    "    for palm in [\"palmDown\", \"palmIn\", \"palmUp\"]:\n",
    "        for oc in [\"Open\", \"Close\"]:\n",
    "            for hand in [\"Left\", \"Right\"]:\n",
    "                for i in range(40):\n",
    "                    test_sub_trial = dataset[\n",
    "                        (dataset[\"handPos\"] == palm) & \n",
    "                        (dataset[\"Action\"] == oc) & \n",
    "                        (dataset[\"Hand\"] == hand) & \n",
    "                        (dataset[\"Trial\"] == i+1) & \n",
    "                        (dataset[\"Subject\"] == sub)]\n",
    "                    test_sub_trial.index = test_sub_trial.iloc[:, -2]\n",
    "                    fig = px.line(\n",
    "                        test_sub_trial.iloc[:, :-6].T, \n",
    "                        title=str(sub + palm + oc + hand + str(i)), \n",
    "                        labels=test_sub_trial.iloc[:, -2]\n",
    "                    )\n",
    "                    fig.write_image(sub + palm + oc + hand + str(i)+ \".png\") \n",
    "                    fig.show()"
   ]
  },
  {
   "cell_type": "code",
   "execution_count": null,
   "id": "d8f78a0a",
   "metadata": {},
   "outputs": [],
   "source": [
    "chanloc = \"/mnt/sda1/shivam/Thesis/Grasp Experiment/Data/EGIAmpServer.loc\"\n",
    "chans = mne.channels.read_custom_montage(chanloc)\n",
    "chans.plot()\n",
    "chans"
   ]
  },
  {
   "cell_type": "code",
   "execution_count": null,
   "id": "dbb3dfee",
   "metadata": {
    "scrolled": true
   },
   "outputs": [],
   "source": [
    "chanPos = chans.get_positions()\n",
    "chanPos"
   ]
  },
  {
   "cell_type": "code",
   "execution_count": null,
   "id": "9eb795f0",
   "metadata": {},
   "outputs": [],
   "source": [
    "chanPos[\"ch_pos\"]"
   ]
  },
  {
   "cell_type": "code",
   "execution_count": null,
   "id": "8b217997",
   "metadata": {},
   "outputs": [],
   "source": [
    "coords = []\n",
    "for pos in chanPos[\"ch_pos\"]:\n",
    "    if \"E\" in pos:\n",
    "        coords.append(np.array(chanPos[\"ch_pos\"][pos][:2]))\n",
    "\n",
    "coords = np.array(coords)\n",
    "coords.shape"
   ]
  },
  {
   "cell_type": "code",
   "execution_count": null,
   "id": "598b86bd",
   "metadata": {},
   "outputs": [],
   "source": [
    "channel_labels = list(chanPos[\"ch_pos\"].keys())\n",
    "print(channel_labels)"
   ]
  },
  {
   "cell_type": "code",
   "execution_count": null,
   "id": "2eef0382",
   "metadata": {},
   "outputs": [],
   "source": [
    "plt.ion()\n",
    "timestamps = list(range(-100, 1000, 4))\n",
    "for time_step in range(275):\n",
    "    print(timestamps[time_step])\n",
    "    plt.title(\"Timestamp: \" + str(timestamps[time_step]), fontsize=16)\n",
    "    plt.rcParams[\"figure.figsize\"] = (8,8)\n",
    "    plt.xlabel(\"X-axis\")\n",
    "    plt.ylabel(\"Y-axis\")\n",
    "\n",
    "    mne.viz.plot_topomap(\n",
    "      test_sub_trial.to_numpy()[:, time_step],\n",
    "      coords, \n",
    "      # sensors=\"r.\", \n",
    "      res=512, \n",
    "      names=channel_labels, \n",
    "      show_names=False, \n",
    "      outlines=\"skirt\", \n",
    "    )\n",
    "\n",
    "    plt.show()\n",
    "    clear_output(wait=True)\n",
    "    time.sleep(2)\n"
   ]
  },
  {
   "cell_type": "code",
   "execution_count": null,
   "id": "e58e173b",
   "metadata": {},
   "outputs": [],
   "source": [
    "mne.viz.plot_topomap(\n",
    "      test_sub_trial.to_numpy()[:, 7],\n",
    "      coords, \n",
    "      # sensors=\"r.\", \n",
    "      res=512, \n",
    "      names=channel_labels, \n",
    "      show_names=False, \n",
    "      outlines=\"skirt\", \n",
    "    )"
   ]
  },
  {
   "cell_type": "code",
   "execution_count": null,
   "id": "4327e3a8",
   "metadata": {},
   "outputs": [],
   "source": [
    "test_sub_trial.to_numpy()[:, :-6].shape"
   ]
  },
  {
   "cell_type": "code",
   "execution_count": null,
   "id": "84504fa9",
   "metadata": {},
   "outputs": [],
   "source": []
  },
  {
   "cell_type": "markdown",
   "id": "1ff540a4",
   "metadata": {},
   "source": [
    "# Classification"
   ]
  },
  {
   "cell_type": "code",
   "execution_count": null,
   "id": "fb576caf",
   "metadata": {},
   "outputs": [],
   "source": [
    "os.chdir(\"/mnt/sda1/shivam/Thesis/Grasp Experiment/Data/CleanSep/\")\n",
    "dataset = pd.read_csv(\"cleaned_datav2_1.csv\")\n",
    "dataset"
   ]
  },
  {
   "cell_type": "code",
   "execution_count": null,
   "id": "716e28a1",
   "metadata": {},
   "outputs": [],
   "source": [
    "# 64 channel EEG data with 500 samples\n",
    "# Giving us X = N * 64 * 275 and y = N \n",
    "X, y = [], []\n",
    "nchan = 64\n",
    "new_dataset = dataset[~(dataset[\"Subject\"] == \"P01\")]\n",
    "iterations = len(new_dataset) // nchan\n",
    "for idx in range(iterations):\n",
    "    start = idx * nchan\n",
    "    end = (idx + 1) * nchan\n",
    "\n",
    "    X.append(np.expand_dims(new_dataset.iloc[start: end, :-6], 2))\n",
    "    y.append(new_dataset.iloc[start, -4])\n",
    "#     print(len(X), len(y))\n",
    "X = np.array(X)\n",
    "y = np.array(y)\n",
    "X.shape, y.shape"
   ]
  },
  {
   "cell_type": "code",
   "execution_count": null,
   "id": "13f5f9ba",
   "metadata": {},
   "outputs": [],
   "source": [
    "from sklearn import preprocessing\n",
    "\n",
    "le = preprocessing.LabelEncoder()\n",
    "le.fit(y)\n",
    "yl = le.transform(y)\n",
    "yl"
   ]
  },
  {
   "cell_type": "code",
   "execution_count": null,
   "id": "9ab0b916",
   "metadata": {},
   "outputs": [],
   "source": [
    "X_train, X_eval, y_train, y_eval = train_test_split(X[:, :, 60: 124, 0], yl, test_size=0.2, random_state=42)\n",
    "X_train, X_test, y_train, y_test = train_test_split(X_train, y_train, test_size=0.2, random_state=42)\n",
    "X_train.shape, X_eval.shape, X_test.shape, y_train.shape, y_eval.shape, y_test.shape"
   ]
  },
  {
   "cell_type": "code",
   "execution_count": null,
   "id": "43060ee0",
   "metadata": {
    "scrolled": true
   },
   "outputs": [],
   "source": [
    "#https://github.com/vlawhern/arl-eegmodels\n",
    "def EEGNet(nb_classes, Chans = 64, Samples = 128, \n",
    "             dropoutRate = 0.8, kernLength = 125, F1 = 8, \n",
    "             D = 2, F2 = 16, norm_rate = 0.25, dropoutType = 'Dropout'):\n",
    "    \"\"\" Keras Implementation of EEGNet\n",
    "    http://iopscience.iop.org/article/10.1088/1741-2552/aace8c/meta\n",
    "    Note that this implements the newest version of EEGNet and NOT the earlier\n",
    "    version (version v1 and v2 on arxiv). We strongly recommend using this\n",
    "    architecture as it performs much better and has nicer properties than\n",
    "    our earlier version. For example:\n",
    "        \n",
    "        1. Depthwise Convolutions to learn spatial filters within a \n",
    "        temporal convolution. The use of the depth_multiplier option maps \n",
    "        exactly to the number of spatial filters learned within a temporal\n",
    "        filter. This matches the setup of algorithms like FBCSP which learn \n",
    "        spatial filters within each filter in a filter-bank. This also limits \n",
    "        the number of free parameters to fit when compared to a fully-connected\n",
    "        convolution. \n",
    "        \n",
    "        2. Separable Convolutions to learn how to optimally combine spatial\n",
    "        filters across temporal bands. Separable Convolutions are Depthwise\n",
    "        Convolutions followed by (1x1) Pointwise Convolutions. \n",
    "        \n",
    "    \n",
    "    While the original paper used Dropout, we found that SpatialDropout2D \n",
    "    sometimes produced slightly better results for classification of ERP \n",
    "    signals. However, SpatialDropout2D significantly reduced performance \n",
    "    on the Oscillatory dataset (SMR, BCI-IV Dataset 2A). We recommend using\n",
    "    the default Dropout in most cases.\n",
    "        \n",
    "    Assumes the input signal is sampled at 128Hz. If you want to use this model\n",
    "    for any other sampling rate you will need to modify the lengths of temporal\n",
    "    kernels and average pooling size in blocks 1 and 2 as needed (double the \n",
    "    kernel lengths for double the sampling rate, etc). Note that we haven't \n",
    "    tested the model performance with this rule so this may not work well. \n",
    "    \n",
    "    The model with default parameters gives the EEGNet-8,2 model as discussed\n",
    "    in the paper. This model should do pretty well in general, although it is\n",
    "\tadvised to do some model searching to get optimal performance on your\n",
    "\tparticular dataset.\n",
    "    We set F2 = F1 * D (number of input filters = number of output filters) for\n",
    "    the SeparableConv2D layer. We haven't extensively tested other values of this\n",
    "    parameter (say, F2 < F1 * D for compressed learning, and F2 > F1 * D for\n",
    "    overcomplete). We believe the main parameters to focus on are F1 and D. \n",
    "    Inputs:\n",
    "        \n",
    "      nb_classes      : int, number of classes to classify\n",
    "      Chans, Samples  : number of channels and time points in the EEG data\n",
    "      dropoutRate     : dropout fraction\n",
    "      kernLength      : length of temporal convolution in first layer. We found\n",
    "                        that setting this to be half the sampling rate worked\n",
    "                        well in practice. For the SMR dataset in particular\n",
    "                        since the data was high-passed at 4Hz we used a kernel\n",
    "                        length of 32.     \n",
    "      F1, F2          : number of temporal filters (F1) and number of pointwise\n",
    "                        filters (F2) to learn. Default: F1 = 8, F2 = F1 * D. \n",
    "      D               : number of spatial filters to learn within each temporal\n",
    "                        convolution. Default: D = 2\n",
    "      dropoutType     : Either SpatialDropout2D or Dropout, passed as a string.\n",
    "    \"\"\"\n",
    "    \n",
    "    if dropoutType == 'SpatialDropout2D':\n",
    "        dropoutType = SpatialDropout2D\n",
    "    elif dropoutType == 'Dropout':\n",
    "        dropoutType = Dropout\n",
    "    else:\n",
    "        raise ValueError('dropoutType must be one of SpatialDropout2D '\n",
    "                         'or Dropout, passed as a string.')\n",
    "    \n",
    "    input1   = Input(shape = (Chans, Samples, 1))\n",
    "\n",
    "    ##################################################################\n",
    "    block1       = Conv2D(F1, (1, kernLength), padding = 'same',\n",
    "                                   input_shape = (Chans, Samples, 1),\n",
    "                                   use_bias = False)(input1)\n",
    "    block1       = BatchNormalization()(block1)\n",
    "    block1       = DepthwiseConv2D((Chans, 1), use_bias = False, \n",
    "                                   depth_multiplier = D,\n",
    "                                   depthwise_constraint = max_norm(1.))(block1)\n",
    "    block1       = BatchNormalization()(block1)\n",
    "    block1       = Activation('elu')(block1)\n",
    "    block1       = AveragePooling2D((1, 4))(block1)\n",
    "    block1       = dropoutType(dropoutRate)(block1)\n",
    "    \n",
    "    block2       = SeparableConv2D(F2, (1, 16),\n",
    "                                   use_bias = False, padding = 'same')(block1)\n",
    "    block2       = BatchNormalization()(block2)\n",
    "    block2       = Activation('elu')(block2)\n",
    "    block2       = AveragePooling2D((1, 8))(block2)\n",
    "    block2       = dropoutType(dropoutRate)(block2)\n",
    "        \n",
    "    flatten      = Flatten(name = 'flatten')(block2)\n",
    "    \n",
    "    dense        = Dense(1, name = 'dense', \n",
    "                         kernel_constraint = max_norm(norm_rate))(flatten)\n",
    "    softmax      = Activation('sigmoid', name = 'sigmoid')(dense)\n",
    "    \n",
    "    return Model(inputs=input1, outputs=softmax)\n",
    "\n",
    "model = EEGNet(1, 64, 64)\n",
    "model.summary()"
   ]
  },
  {
   "cell_type": "code",
   "execution_count": null,
   "id": "9be14672",
   "metadata": {},
   "outputs": [],
   "source": [
    "model.compile(loss='binary_crossentropy', optimizer='adam', \n",
    "              metrics = ['accuracy'])\n",
    "\n",
    "# count number of parameters in the model\n",
    "numParams = model.count_params()    \n",
    "\n",
    "# set a valid path for your system to record model checkpoints\n",
    "checkpoint_filepath = \"/tmp/checkpoint/\"\n",
    "checkpointer = ModelCheckpoint(\n",
    "        filepath=checkpoint_filepath, \n",
    "        save_weights_only=True,\n",
    "        monitor=\"val_accuracy\",\n",
    "        mode=\"max\",\n",
    "        save_best_only=True\n",
    ")\n",
    "\n",
    "# Handle class imbalance\n",
    "class_weights = {0:1, 1:1}"
   ]
  },
  {
   "cell_type": "code",
   "execution_count": null,
   "id": "74b70c4e",
   "metadata": {
    "scrolled": true
   },
   "outputs": [],
   "source": [
    "################################################################################\n",
    "# fit the model. Due to very small sample sizes this can get\n",
    "# pretty noisy run-to-run, but most runs should be comparable to xDAWN + \n",
    "# Riemannian geometry classification (below)\n",
    "################################################################################\n",
    "batch_size = 512\n",
    "EPOCHS = 500\n",
    "history = model.fit(\n",
    "    X_train, \n",
    "    y_train, \n",
    "    batch_size = batch_size, \n",
    "    epochs = EPOCHS, \n",
    "    validation_data=(X_eval, y_eval),\n",
    "    callbacks=[checkpointer], \n",
    "#     class_weight = class_weights\n",
    ")"
   ]
  },
  {
   "cell_type": "code",
   "execution_count": null,
   "id": "5e4de954",
   "metadata": {},
   "outputs": [],
   "source": [
    "plt.plot(history.history[\"accuracy\"])\n",
    "plt.plot(history.history[\"val_accuracy\"])\n",
    "plt.show()\n",
    "plt.plot(history.history[\"loss\"])\n",
    "plt.plot(history.history[\"val_loss\"])\n",
    "plt.show()"
   ]
  },
  {
   "cell_type": "code",
   "execution_count": null,
   "id": "2becbf68",
   "metadata": {},
   "outputs": [],
   "source": [
    "# load optimal weights\n",
    "model.load_weights(checkpoint_filepath)\n",
    "path_name = '/mnt/sda1/shivam/Thesis/Grasp Experiment/Data/Models/model-eegnet-sig-crr-v3'\n",
    "model.save(path_name)"
   ]
  },
  {
   "cell_type": "code",
   "execution_count": null,
   "id": "e7ec1f25",
   "metadata": {},
   "outputs": [],
   "source": [
    "new_model = tf.keras.models.load_model(path_name)\n",
    "# y_pred = np.argmax(new_model.predict(X_test), axis=1)  # Softmax\n",
    "y_pred = [1 if x > 0.5 else 0 for x in new_model.predict(X_test)]  # Sigmoid\n",
    "y_true = y_test\n",
    "test_acc = sum(y_pred == y_true) / len(y_true)\n",
    "print(f'Test set accuracy main: {test_acc:.0%}')"
   ]
  },
  {
   "cell_type": "code",
   "execution_count": null,
   "id": "0ff30e18",
   "metadata": {},
   "outputs": [],
   "source": [
    "confusion_matrix = tf.math.confusion_matrix(y_true, y_pred)\n",
    "\n",
    "plt.figure(figsize = (7,7))\n",
    "hm1 = sns.heatmap(confusion_matrix, annot=True, cbar=False, vmin=0, vmax=1500,fmt='g')\n",
    "\n",
    "hm1.set(title='True Action', ylabel='Predicted Action')\n",
    "hm1.xaxis.tick_top()\n",
    "\n",
    "hm1.set_xticklabels([int(i.get_text())+1 for i in hm1.get_xticklabels()])\n",
    "hm1.set_yticklabels([int(i.get_text())+1 for i in hm1.get_yticklabels()])\n",
    "plt.tight_layout()\n",
    "# file_name = \"beat_classification_confusion_matrix_reverse_sizes\"\n",
    "# os.chdir('/mnt/sda1/shivam/DrummingEEG/FullStudyData/images')\n",
    "# hm1.get_figure().savefig(file_name + \".png\")"
   ]
  },
  {
   "cell_type": "markdown",
   "id": "84a703ac",
   "metadata": {},
   "source": [
    "# Using power spectral density"
   ]
  },
  {
   "cell_type": "code",
   "execution_count": null,
   "id": "2a391496",
   "metadata": {},
   "outputs": [],
   "source": [
    "X.shape"
   ]
  },
  {
   "cell_type": "code",
   "execution_count": null,
   "id": "6d3cf667",
   "metadata": {},
   "outputs": [],
   "source": [
    "# Multitaper method\n",
    "def bandpower_multitaper(data, sf, method, band, relative=False):\n",
    "    band = np.asarray(band)\n",
    "    low, high = band\n",
    "\n",
    "    if method == 'multitaper':\n",
    "        psd_trial, freqs = psd_array_multitaper(data, sf, adaptive=True,\n",
    "                                                normalization='full', verbose=0)\n",
    "    # Frequency resolution\n",
    "    freq_res = freqs[1] - freqs[0]\n",
    "\n",
    "    # Find index of band in frequency vector\n",
    "    idx_band = np.logical_and(freqs >= low, freqs <= high)\n",
    "\n",
    "    # Integral approximation of the spectrum using parabola (Simpson's rule)\n",
    "    bp = simps(psd_trial[idx_band], dx=freq_res)\n",
    "\n",
    "    return bp\n"
   ]
  },
  {
   "cell_type": "code",
   "execution_count": null,
   "id": "13eb4b9e",
   "metadata": {},
   "outputs": [],
   "source": [
    "def create_bandpower_features(epochs, frequency):\n",
    "    bandpower_multitaper_EEG = []\n",
    "    # Iterating over each subject [20]\n",
    "    for epoch in epochs:\n",
    "        # Iterating over each song per subject [30]\n",
    "        bands_video = []\n",
    "        no_channels = epoch.shape[0]\n",
    "        input_brainwaves = epoch\n",
    "        # Iterating over each channel [14]\n",
    "        for k in range(no_channels):\n",
    "            bands_video.append(bandpower_multitaper(input_brainwaves[k,:], sf=frequency, method='multitaper',\n",
    "                                                    band=[0.5, 4], relative=False))\n",
    "            bands_video.append(bandpower_multitaper(input_brainwaves[k,:], sf=frequency, method='multitaper',\n",
    "                                                    band=[4, 7], relative=False))\n",
    "            bands_video.append(bandpower_multitaper(input_brainwaves[k,:], sf=frequency, method='multitaper',\n",
    "                                                    band=[8, 13], relative=False))\n",
    "            bands_video.append(bandpower_multitaper(input_brainwaves[k,:], sf=frequency, method='multitaper',\n",
    "                                                    band=[14, 30], relative=False))\n",
    "            bands_video.append(bandpower_multitaper(input_brainwaves[k,:], sf=frequency, method='multitaper',\n",
    "                                                    band=[31, 50], relative=False))\n",
    "      \n",
    "        bandpower_multitaper_EEG.append(bands_video)\n",
    "\n",
    "    bandpower_multitaper_EEG = np.array(bandpower_multitaper_EEG)\n",
    "  \n",
    "    return bandpower_multitaper_EEG"
   ]
  },
  {
   "cell_type": "code",
   "execution_count": null,
   "id": "e6cacf86",
   "metadata": {
    "scrolled": true
   },
   "outputs": [],
   "source": [
    "sf = 250\n",
    "window = 2\n",
    "psd_features = []\n",
    "for x in X:\n",
    "    epoch = sliding_window(x[:,:,0], sf=sf, window=window, step=window)[1]\n",
    "    psd = create_bandpower_features(epoch, sf)\n",
    "    if len(psd_features) == 0:\n",
    "        psd_features = psd\n",
    "    else:\n",
    "        psd_features = np.concatenate((psd_features, psd))\n",
    "    print(psd_features.shape)"
   ]
  },
  {
   "cell_type": "code",
   "execution_count": null,
   "id": "7081f249",
   "metadata": {},
   "outputs": [],
   "source": [
    "os.chdir('/mnt/sda1/shivam/Thesis/Grasp Experiment/Data')\n",
    "np.save(\"IntData/psd_features_v6.npy\", psd_features)"
   ]
  },
  {
   "cell_type": "code",
   "execution_count": null,
   "id": "7ac6ea49",
   "metadata": {},
   "outputs": [],
   "source": [
    "os.chdir('/mnt/sda1/shivam/Thesis/Grasp Experiment/Data/IntData/')\n",
    "psd_labels = []\n",
    "for y in yl:\n",
    "    psd_labels += [y] * 1\n",
    "np.save(\"psd_labels_v6.npy\", psd_labels)"
   ]
  },
  {
   "cell_type": "code",
   "execution_count": null,
   "id": "0afde508",
   "metadata": {},
   "outputs": [],
   "source": [
    "os.chdir('/mnt/sda1/shivam/Thesis/Grasp Experiment/Data/IntData/')\n",
    "X, y = np.load(\"psd_features_v6.npy\"), np.load(\"psd_labels_v6.npy\")\n",
    "X.shape, y.shape # ((1920, 320), (1920,))"
   ]
  },
  {
   "cell_type": "code",
   "execution_count": null,
   "id": "186a77bd",
   "metadata": {},
   "outputs": [],
   "source": [
    "X[y==1].shape"
   ]
  },
  {
   "cell_type": "code",
   "execution_count": null,
   "id": "24bc6a51",
   "metadata": {},
   "outputs": [],
   "source": [
    "# Common Spatial Pattern implementation in Python, used to build spatial filters for identifying task-related activity.\n",
    "import numpy as np\n",
    "import scipy.linalg as la\n",
    "\n",
    "# CSP takes any number of arguments, but each argument must be a collection of trials associated with a task\n",
    "# That is, for N tasks, N arrays are passed to CSP each with dimensionality (# of trials of task N) x (feature vector)\n",
    "# Trials may be of any dimension, provided that each trial for each task has the same dimensionality,\n",
    "# otherwise there can be no spatial filtering since the trials cannot be compared\n",
    "def CSP(*tasks):\n",
    "    if len(tasks) < 2:\n",
    "        print(\"Must have at least 2 tasks for filtering.\")\n",
    "        return (None,) * len(tasks)\n",
    "    else:\n",
    "        filters = ()\n",
    "        # CSP algorithm\n",
    "        # For each task x, find the mean variances Rx and not_Rx, which will be used to compute spatial filter SFx\n",
    "        iterator = range(0,len(tasks))\n",
    "        for x in iterator:\n",
    "            # Find Rx\n",
    "            Rx = covarianceMatrix(tasks[x][0])\n",
    "            for t in range(1,len(tasks[x])):\n",
    "                Rx += covarianceMatrix(tasks[x][t])\n",
    "            Rx = Rx / len(tasks[x])\n",
    "\n",
    "            # Find not_Rx\n",
    "            count = 0\n",
    "            not_Rx = Rx * 0\n",
    "            for not_x in [element for element in iterator if element != x]:\n",
    "                for t in range(0,len(tasks[not_x])):\n",
    "                    not_Rx += covarianceMatrix(tasks[not_x][t])\n",
    "                    count += 1\n",
    "            not_Rx = not_Rx / count\n",
    "\n",
    "            # Find the spatial filter SFx\n",
    "            SFx = spatialFilter(Rx,not_Rx)\n",
    "            filters += (SFx,)\n",
    "\n",
    "            # Special case: only two tasks, no need to compute any more mean variances\n",
    "            if len(tasks) == 2:\n",
    "                filters += (spatialFilter(not_Rx,Rx),)\n",
    "                break\n",
    "        return filters\n",
    "\n",
    "# covarianceMatrix takes a matrix A and returns the covariance matrix, scaled by the variance\n",
    "def covarianceMatrix(A):\n",
    "    Ca = np.dot(A,np.transpose(A))/np.trace(np.dot(A,np.transpose(A)))\n",
    "    return Ca\n",
    "\n",
    "# spatialFilter returns the spatial filter SFa for mean covariance matrices Ra and Rb\n",
    "def spatialFilter(Ra,Rb):\n",
    "    R = Ra + Rb\n",
    "    E,U = la.eig(R)\n",
    "\n",
    "    # CSP requires the eigenvalues E and eigenvector U be sorted in descending order\n",
    "    ord = np.argsort(E)\n",
    "    ord = ord[::-1] # argsort gives ascending order, flip to get descending\n",
    "    E = E[ord]\n",
    "    U = U[:,ord]\n",
    "\n",
    "    # Find the whitening transformation matrix\n",
    "    P = np.dot(np.sqrt(la.inv(np.diag(E))),np.transpose(U))\n",
    "\n",
    "    # The mean covariance matrices may now be transformed\n",
    "    Sa = np.dot(P,np.dot(Ra,np.transpose(P)))\n",
    "    Sb = np.dot(P,np.dot(Rb,np.transpose(P)))\n",
    "\n",
    "    # Find and sort the generalized eigenvalues and eigenvector\n",
    "    E1,U1 = la.eig(Sa,Sb)\n",
    "    ord1 = np.argsort(E1)\n",
    "    ord1 = ord1[::-1]\n",
    "    E1 = E1[ord1]\n",
    "    U1 = U1[:,ord1]\n",
    "\n",
    "    # The projection matrix (the spatial filter) may now be obtained\n",
    "    SFa = np.dot(np.transpose(U1),P)\n",
    "    return SFa.astype(np.float32)"
   ]
  },
  {
   "cell_type": "code",
   "execution_count": null,
   "id": "5d193de9",
   "metadata": {},
   "outputs": [],
   "source": [
    "CSP(X[y==0], X[y==1])"
   ]
  },
  {
   "cell_type": "code",
   "execution_count": null,
   "id": "f6f2288f",
   "metadata": {},
   "outputs": [],
   "source": [
    "X_train, X_eval, y_train, y_eval = train_test_split(X[480:, :], y[480:], test_size=0.1, random_state=42)\n",
    "X_train, X_test, y_train, y_test = train_test_split(X_train, y_train, test_size=0.1, random_state=42)\n",
    "X_train.shape, X_eval.shape, X_test.shape, y_train.shape, y_eval.shape, y_test.shape"
   ]
  },
  {
   "cell_type": "code",
   "execution_count": null,
   "id": "41a15468",
   "metadata": {},
   "outputs": [],
   "source": [
    "# https://scikit-learn.org/stable/auto_examples/classification/plot_classifier_comparison.html\n",
    "from sklearn.neural_network import MLPClassifier\n",
    "from sklearn.neighbors import KNeighborsClassifier\n",
    "from sklearn.svm import SVC\n",
    "from sklearn.gaussian_process import GaussianProcessClassifier\n",
    "from sklearn.gaussian_process.kernels import RBF\n",
    "from sklearn.tree import DecisionTreeClassifier\n",
    "from sklearn.ensemble import RandomForestClassifier, AdaBoostClassifier\n",
    "from sklearn.naive_bayes import GaussianNB\n",
    "from sklearn.discriminant_analysis import QuadraticDiscriminantAnalysis\n",
    "from sklearn.model_selection import cross_val_score"
   ]
  },
  {
   "cell_type": "code",
   "execution_count": null,
   "id": "b9ce0935",
   "metadata": {},
   "outputs": [],
   "source": [
    "# source : https://scikit-learn.org/stable/auto_examples/classification/plot_classifier_comparison.html\n",
    "\n",
    "clfs = [\n",
    "    KNeighborsClassifier(2),\n",
    "    # SVC(kernel=\"linear\", C=0.025),\n",
    "    SVC(gamma=2, C=1),\n",
    "    # GaussianProcessClassifier(1.0 * RBF(1.0)),\n",
    "    DecisionTreeClassifier(max_depth=200),\n",
    "    RandomForestClassifier(max_depth=200, n_estimators=10, max_features=1),\n",
    "    MLPClassifier(alpha=1, max_iter=1000),\n",
    "    AdaBoostClassifier(),\n",
    "    GaussianNB(),\n",
    "    QuadraticDiscriminantAnalysis()\n",
    "]\n",
    "\n",
    "names = [\n",
    "    \"Nearest Neighbors\",\n",
    "    # \"Linear SVM\",\n",
    "    \"RBF SVM\",\n",
    "    # \"Gaussian Process\",\n",
    "    \"Decision Tree\",\n",
    "    \"Random Forest\",\n",
    "    \"Neural Net\",\n",
    "    \"AdaBoost\",\n",
    "    \"Naive Bayes\",\n",
    "    \"QDA\",\n",
    "]\n",
    "\n",
    "clfs_mlp = [\n",
    "    MLPClassifier(hidden_layer_sizes=(10, 20, 10), alpha=0.01, max_iter=1000),\n",
    "    MLPClassifier(hidden_layer_sizes=(20, 40, 30), alpha=0.01, max_iter=1000),\n",
    "    MLPClassifier(hidden_layer_sizes=(30, 60, 45), alpha=0.01, max_iter=1000),\n",
    "    MLPClassifier(hidden_layer_sizes=(40, 80, 60), alpha=0.01, max_iter=1000),\n",
    "    MLPClassifier(hidden_layer_sizes=(60, 120, 80), alpha=0.01, max_iter=1000),\n",
    "    MLPClassifier(hidden_layer_sizes=(80, 140, 100), alpha=0.01, max_iter=1000),\n",
    "]\n",
    "\n",
    "names_mlp = [\n",
    "    \"MLP1\",\n",
    "    \"MLP2\",\n",
    "    \"MLP3\",\n",
    "    \"MLP4\",\n",
    "    \"MLP5\",\n",
    "    \"MLP6\",\n",
    "]"
   ]
  },
  {
   "cell_type": "code",
   "execution_count": null,
   "id": "d1750683",
   "metadata": {},
   "outputs": [],
   "source": [
    "chanloc = \"/mnt/sda1/shivam/Thesis/Grasp Experiment/Data/EGIAmpServer.loc\"\n",
    "chans = mne.channels.read_custom_montage(chanloc)\n",
    "chans.plot()\n",
    "chans"
   ]
  },
  {
   "cell_type": "code",
   "execution_count": null,
   "id": "dcd9d327",
   "metadata": {},
   "outputs": [],
   "source": [
    "results = []\n",
    "for idx,clf in enumerate(clfs):\n",
    "    clf.fit(X_train, y_train)\n",
    "    score = clf.score(X_test, y_test)\n",
    "    results.append([names[idx], score])\n",
    "    print(names[idx], score)"
   ]
  },
  {
   "cell_type": "code",
   "execution_count": null,
   "id": "be43fd55",
   "metadata": {},
   "outputs": [],
   "source": [
    "X_train[:, 2].shape"
   ]
  },
  {
   "cell_type": "code",
   "execution_count": null,
   "id": "6baac1d5",
   "metadata": {},
   "outputs": [],
   "source": [
    "D"
   ]
  },
  {
   "cell_type": "code",
   "execution_count": null,
   "id": "eb7101aa",
   "metadata": {},
   "outputs": [],
   "source": [
    "Trial = np.array([[trial_ctr_dict[trial_type]]] * 64)\n",
    "p_eeg = np.append(p_eeg, handPos, axis=1)"
   ]
  },
  {
   "cell_type": "code",
   "execution_count": null,
   "id": "5932c0e9",
   "metadata": {},
   "outputs": [],
   "source": [
    "# Based on channel selection, 8 channels at a time. Then we go for iteratively increasing channels.\n",
    "chan_sel_results = []\n",
    "# clf = KNeighborsClassifier(2)\n",
    "chunk = 64\n",
    "chan_sel_results = np.array([[x] for x in names])\n",
    "for i in range(64//chunk):\n",
    "    start = i * chunk * 5\n",
    "    end = (i+1) * chunk * 5\n",
    "    score_chunk = []\n",
    "    for idx,clf in enumerate(clfs):\n",
    "        clf.fit(X_train[:, start:end], y_train)\n",
    "        score = clf.score(X_test[:, start:end], y_test)\n",
    "        score_chunk.append(score)\n",
    "    score_chunk = np.array([[x] for x in score_chunk])\n",
    "    chan_sel_results = np.append(chan_sel_results, score_chunk, axis=1)\n",
    "chan_sel_results.shape, chan_sel_results"
   ]
  },
  {
   "cell_type": "code",
   "execution_count": null,
   "id": "6a996e21",
   "metadata": {},
   "outputs": [],
   "source": [
    "os.chdir(\"/mnt/sda1/shivam/Thesis/Grasp Experiment/Data/Results\")\n",
    "df = pd.DataFrame(data=chan_sel_results, columns=[\"classifier\"] + [\"Chunk\" + str(i) for i in range(64//chunk)])\n",
    "df.to_csv(\"chan_sel_results_64.csv\", index=None)\n",
    "df"
   ]
  },
  {
   "cell_type": "code",
   "execution_count": null,
   "id": "70b147bd",
   "metadata": {},
   "outputs": [],
   "source": [
    "# df =  pd.DataFrame(data = chan_sel_results, columns =['Start','End', \"Classifier\", 'Testing Score'])\n",
    "# os.chdir(\"/mnt/sda1/shivam/Thesis/Grasp Experiment/Data/Results\")\n",
    "# df.to_csv(\"chan_sel_results_4.csv\", index=None)\n",
    "# df"
   ]
  },
  {
   "cell_type": "code",
   "execution_count": null,
   "id": "307ee5ed",
   "metadata": {},
   "outputs": [],
   "source": [
    "y_new = y[480:]"
   ]
  },
  {
   "cell_type": "code",
   "execution_count": null,
   "id": "fd4b918e",
   "metadata": {
    "scrolled": true
   },
   "outputs": [],
   "source": [
    "from sklearn.manifold import TSNE\n",
    "tsne = TSNE()\n",
    "perplexity = range(0, 20, 4)\n",
    "for per in perplexity:\n",
    "    dataset_embedded = TSNE(\n",
    "        n_components=2, \n",
    "        learning_rate=\"auto\", \n",
    "        init=\"random\", \n",
    "        perplexity=per\n",
    "    ).fit_transform(X[480:])\n",
    "    \n",
    "    print(\"Perplexity: \", per)\n",
    "    plt.scatter(dataset_embedded[y_new==0,0], dataset_embedded[y_new==0,1])\n",
    "    plt.scatter(dataset_embedded[y_new==1,0], dataset_embedded[y_new==1,1])\n",
    "    plt.show()"
   ]
  },
  {
   "cell_type": "code",
   "execution_count": null,
   "id": "269d67b1",
   "metadata": {},
   "outputs": [],
   "source": []
  },
  {
   "cell_type": "code",
   "execution_count": null,
   "id": "7f1e3866",
   "metadata": {},
   "outputs": [],
   "source": []
  },
  {
   "cell_type": "code",
   "execution_count": null,
   "id": "b7d5701f",
   "metadata": {},
   "outputs": [],
   "source": []
  },
  {
   "cell_type": "code",
   "execution_count": null,
   "id": "2607f266",
   "metadata": {},
   "outputs": [],
   "source": [
    "import numpy as np\n",
    "import matplotlib.pyplot as plt\n",
    "import warnings\n",
    "warnings.filterwarnings(\"ignore\", category=RuntimeWarning) \n",
    "\n",
    "def get_signal_Hz(Hz,sample_rate,length_ts_sec):\n",
    "    ## 1 sec length time series with sampling rate \n",
    "    ts1sec = list(np.linspace(0,np.pi*2*Hz,sample_rate))\n",
    "    ## 1 sec length time series with sampling rate \n",
    "    ts = ts1sec*length_ts_sec\n",
    "    return(list(np.sin(ts)))\n",
    "\n",
    "sample_rate   = 4000\n",
    "length_ts_sec = 3\n",
    "## --------------------------------- ##\n",
    "## 3 seconds of \"digit 1\" sound\n",
    "## Pressing digit 2 buttom generates \n",
    "## the sine waves at frequency \n",
    "## 697Hz and 1209Hz.\n",
    "## --------------------------------- ##\n",
    "ts1  = np.array(get_signal_Hz(697, sample_rate,length_ts_sec)) \n",
    "ts1 += np.array(get_signal_Hz(1209,sample_rate,length_ts_sec))\n",
    "ts1  = list(ts1)\n",
    "\n",
    "## -------------------- ##\n",
    "## 2 seconds of silence\n",
    "## -------------------- ##\n",
    "ts_silence = [0]*sample_rate*1\n",
    "\n",
    "## --------------------------------- ##\n",
    "## 3 seconds of \"digit 2\" sounds \n",
    "## Pressing digit 2 buttom generates \n",
    "## the sine waves at frequency \n",
    "## 697Hz and 1336Hz.\n",
    "## --------------------------------- ##\n",
    "ts2  = np.array(get_signal_Hz(697, sample_rate,length_ts_sec)) \n",
    "ts2 += np.array(get_signal_Hz(1336,sample_rate,length_ts_sec))\n",
    "ts2  = list(ts2)\n",
    "\n",
    "## -------------------- ##\n",
    "## Add up to 7 seconds\n",
    "## ------------------- ##\n",
    "ts = ts1 + ts_silence  + ts2"
   ]
  },
  {
   "cell_type": "code",
   "execution_count": null,
   "id": "de19a341",
   "metadata": {},
   "outputs": [],
   "source": [
    "\n",
    "\n",
    "total_ts_sec = len(ts)/sample_rate\n",
    "print(\"The total time series length = {} sec (N points = {}) \".format(total_ts_sec, len(ts)))\n",
    "plt.figure(figsize=(20,3))\n",
    "plt.plot(ts)\n",
    "plt.xticks(np.arange(0,len(ts),sample_rate),\n",
    "           np.arange(0,len(ts)/sample_rate,1))\n",
    "plt.ylabel(\"Amplitude\")\n",
    "plt.xlabel(\"Time (second)\")\n",
    "plt.title(\"The total length of time series = {} sec, sample_rate = {}\".format(len(ts)/sample_rate, sample_rate))\n",
    "plt.show()\n",
    "\n"
   ]
  },
  {
   "cell_type": "code",
   "execution_count": null,
   "id": "5b4d89f5",
   "metadata": {},
   "outputs": [],
   "source": [
    "def get_xn(Xs,n):\n",
    "    '''\n",
    "    calculate the Fourier coefficient X_n of \n",
    "    Discrete Fourier Transform (DFT)\n",
    "    '''\n",
    "    L  = len(Xs)\n",
    "    ks = np.arange(0,L,1)\n",
    "    xn = np.sum(Xs*np.exp((1j*2*np.pi*ks*n)/L))/L\n",
    "    return(xn)\n",
    "\n",
    "def get_xns(ts):\n",
    "    '''\n",
    "    Compute Fourier coefficients only up to the Nyquest Limit Xn, n=1,...,L/2\n",
    "    and multiply the absolute value of the Fourier coefficients by 2, \n",
    "    to account for the symetry of the Fourier coefficients above the Nyquest Limit. \n",
    "    '''\n",
    "    mag = []\n",
    "    L = len(ts)\n",
    "    for n in range(int(L/2)): # Nyquest Limit\n",
    "        mag.append(np.abs(get_xn(ts,n))*2)\n",
    "    return(mag)\n",
    "mag = get_xns(ts)"
   ]
  },
  {
   "cell_type": "code",
   "execution_count": null,
   "id": "67f97da9",
   "metadata": {},
   "outputs": [],
   "source": [
    "# the number of points to label along xaxis\n",
    "Nxlim = 10\n",
    "\n",
    "plt.figure(figsize=(20,3))\n",
    "plt.plot(mag)\n",
    "plt.xlabel(\"Frequency (k)\")\n",
    "plt.title(\"Two-sided frequency plot\")\n",
    "plt.ylabel(\"|Fourier Coefficient|\")\n",
    "plt.show()"
   ]
  },
  {
   "cell_type": "code",
   "execution_count": null,
   "id": "6b13af54",
   "metadata": {},
   "outputs": [],
   "source": [
    "def get_Hz_scale_vec(ks,sample_rate,Npoints):\n",
    "    freq_Hz = ks*sample_rate/Npoints\n",
    "    freq_Hz  = [int(i) for i in freq_Hz ] \n",
    "    return(freq_Hz )\n",
    "\n",
    "ks   = np.linspace(0,len(mag),Nxlim)\n",
    "ksHz = get_Hz_scale_vec(ks,sample_rate,len(ts))\n",
    "\n",
    "plt.figure(figsize=(20,3))\n",
    "plt.plot(mag)\n",
    "plt.xticks(ks,ksHz)\n",
    "plt.title(\"Frequency Domain\")\n",
    "plt.xlabel(\"Frequency (Hz)\")\n",
    "plt.ylabel(\"|Fourier Coefficient|\")\n",
    "plt.show()"
   ]
  },
  {
   "cell_type": "code",
   "execution_count": null,
   "id": "afaa6b89",
   "metadata": {},
   "outputs": [],
   "source": [
    "def create_spectrogram(ts,NFFT,noverlap = None):\n",
    "    '''\n",
    "          ts: original time series\n",
    "        NFFT: The number of data points used in each block for the DFT.\n",
    "          Fs: the number of points sampled per second, so called sample_rate\n",
    "    noverlap: The number of points of overlap between blocks. The default value is 128. \n",
    "    '''\n",
    "    if noverlap is None:\n",
    "        noverlap = NFFT/2\n",
    "    noverlap = int(noverlap)\n",
    "    starts  = np.arange(0,len(ts),NFFT-noverlap,dtype=int)\n",
    "    # remove any window with less than NFFT sample size\n",
    "    starts  = starts[starts + NFFT < len(ts)]\n",
    "    xns = []\n",
    "    for start in starts:\n",
    "        # short term discrete fourier transform\n",
    "        ts_window = get_xns(ts[start:start + NFFT]) \n",
    "        xns.append(ts_window)\n",
    "    specX = np.array(xns).T\n",
    "    # rescale the absolute value of the spectrogram as rescaling is standard\n",
    "    spec = 10*np.log10(specX)\n",
    "    assert spec.shape[1] == len(starts) \n",
    "    return(starts,spec)\n",
    "\n",
    "L = 256\n",
    "noverlap = 84\n",
    "starts, spec = create_spectrogram(ts,L,noverlap = noverlap )\n",
    "\n"
   ]
  },
  {
   "cell_type": "code",
   "execution_count": null,
   "id": "d4cdeb03",
   "metadata": {},
   "outputs": [],
   "source": [
    "def plot_spectrogram(spec,ks,sample_rate, L, starts, mappable = None):\n",
    "    plt.figure(figsize=(20,8))\n",
    "    plt_spec = plt.imshow(spec,origin='lower')\n",
    "\n",
    "    ## create ylim\n",
    "    Nyticks = 10\n",
    "    ks      = np.linspace(0,spec.shape[0],Nyticks)\n",
    "    ksHz    = get_Hz_scale_vec(ks,sample_rate,len(ts))\n",
    "    plt.yticks(ks,ksHz)\n",
    "    plt.ylabel(\"Frequency (Hz)\")\n",
    "\n",
    "    ## create xlim\n",
    "    Nxticks = 10\n",
    "    ts_spec = np.linspace(0,spec.shape[1],Nxticks)\n",
    "    ts_spec_sec  = [\"{:4.2f}\".format(i) for i in np.linspace(0,total_ts_sec*starts[-1]/len(ts),Nxticks)]\n",
    "    plt.xticks(ts_spec,ts_spec_sec)\n",
    "    plt.xlabel(\"Time (sec)\")\n",
    "\n",
    "    plt.title(\"Spectrogram L={} Spectrogram.shape={}\".format(L,spec.shape))\n",
    "    plt.colorbar(mappable,use_gridspec=True)\n",
    "    plt.show()\n",
    "    return(plt_spec)\n",
    "plot_spectrogram(spec,ks,sample_rate,L, starts)\n",
    "\n"
   ]
  },
  {
   "cell_type": "code",
   "execution_count": null,
   "id": "def7a18f",
   "metadata": {},
   "outputs": [],
   "source": [
    "# -*- coding: utf-8 -*-\n",
    "\"\"\"\n",
    ".. _ex-decoding-csp-eeg:\n",
    "\n",
    "===========================================================================\n",
    "Motor imagery decoding from EEG data using the Common Spatial Pattern (CSP)\n",
    "===========================================================================\n",
    "\n",
    "Decoding of motor imagery applied to EEG data decomposed using CSP. A\n",
    "classifier is then applied to features extracted on CSP-filtered signals.\n",
    "\n",
    "See https://en.wikipedia.org/wiki/Common_spatial_pattern and\n",
    ":footcite:`Koles1991`. The EEGBCI dataset is documented in\n",
    ":footcite:`SchalkEtAl2004` and is available at PhysioNet\n",
    ":footcite:`GoldbergerEtAl2000`.\n",
    "\"\"\"\n",
    "# Authors: Martin Billinger <martin.billinger@tugraz.at>\n",
    "#\n",
    "# License: BSD-3-Clause\n",
    "\n",
    "# %%\n",
    "\n",
    "\n",
    "import numpy as np\n",
    "import matplotlib.pyplot as plt\n",
    "\n",
    "from sklearn.pipeline import Pipeline\n",
    "from sklearn.discriminant_analysis import LinearDiscriminantAnalysis\n",
    "from sklearn.model_selection import ShuffleSplit, cross_val_score\n",
    "\n",
    "from mne import Epochs, pick_types, events_from_annotations\n",
    "from mne.channels import make_standard_montage\n",
    "from mne.io import concatenate_raws, read_raw_edf\n",
    "from mne.datasets import eegbci\n",
    "from mne.decoding import CSP\n",
    "\n",
    "print(__doc__)\n",
    "\n",
    "# #############################################################################\n",
    "# # Set parameters and read data\n",
    "\n",
    "# avoid classification of evoked responses by using epochs that start 1s after\n",
    "# cue onset.\n",
    "tmin, tmax = -1., 4.\n",
    "event_id = dict(hands=2, feet=3)\n",
    "subject = 1\n",
    "runs = [6, 10, 14]  # motor imagery: hands vs feet\n",
    "\n",
    "raw_fnames = eegbci.load_data(subject, runs)\n",
    "raw = concatenate_raws([read_raw_edf(f, preload=True) for f in raw_fnames])\n",
    "eegbci.standardize(raw)  # set channel names\n",
    "montage = make_standard_montage('standard_1005')\n",
    "raw.set_montage(montage)\n",
    "\n",
    "# Apply band-pass filter\n",
    "raw.filter(7., 30., fir_design='firwin', skip_by_annotation='edge')\n",
    "\n",
    "events, _ = events_from_annotations(raw, event_id=dict(T1=2, T2=3))\n",
    "\n",
    "picks = pick_types(raw.info, meg=False, eeg=True, stim=False, eog=False,\n",
    "                   exclude='bads')\n",
    "\n",
    "# Read epochs (train will be done only between 1 and 2s)\n",
    "# Testing will be done with a running classifier\n",
    "epochs = Epochs(raw, events, event_id, tmin, tmax, proj=True, picks=picks,\n",
    "                baseline=None, preload=True)\n",
    "epochs_train = epochs.copy().crop(tmin=1., tmax=2.)\n",
    "labels = epochs.events[:, -1] - 2\n",
    "\n",
    "# %%\n",
    "# Classification with linear discrimant analysis\n",
    "\n",
    "# Define a monte-carlo cross-validation generator (reduce variance):\n",
    "scores = []\n",
    "epochs_data = epochs.get_data()\n",
    "epochs_data_train = epochs_train.get_data()\n",
    "cv = ShuffleSplit(10, test_size=0.2, random_state=42)\n",
    "cv_split = cv.split(epochs_data_train)\n",
    "\n",
    "# Assemble a classifier\n",
    "lda = LinearDiscriminantAnalysis()\n",
    "csp = CSP(n_components=4, reg=None, log=True, norm_trace=False)\n",
    "\n",
    "# Use scikit-learn Pipeline with cross_val_score function\n",
    "clf = Pipeline([('CSP', csp), ('LDA', lda)])\n",
    "scores = cross_val_score(clf, epochs_data_train, labels, cv=cv, n_jobs=None)\n",
    "\n",
    "# Printing the results\n",
    "class_balance = np.mean(labels == labels[0])\n",
    "class_balance = max(class_balance, 1. - class_balance)\n",
    "print(\"Classification accuracy: %f / Chance level: %f\" % (np.mean(scores),\n",
    "                                                          class_balance))\n",
    "\n",
    "# plot CSP patterns estimated on full data for visualization\n",
    "csp.fit_transform(epochs_data, labels)\n",
    "\n",
    "csp.plot_patterns(epochs.info, ch_type='eeg', units='Patterns (AU)', size=1.5)\n",
    "\n",
    "# %%\n",
    "# Look at performance over time\n",
    "\n",
    "sfreq = raw.info['sfreq']\n",
    "w_length = int(sfreq * 0.5)   # running classifier: window length\n",
    "w_step = int(sfreq * 0.1)  # running classifier: window step size\n",
    "w_start = np.arange(0, epochs_data.shape[2] - w_length, w_step)\n",
    "\n",
    "scores_windows = []\n",
    "\n",
    "for train_idx, test_idx in cv_split:\n",
    "    y_train, y_test = labels[train_idx], labels[test_idx]\n",
    "\n",
    "    X_train = csp.fit_transform(epochs_data_train[train_idx], y_train)\n",
    "    X_test = csp.transform(epochs_data_train[test_idx])\n",
    "\n",
    "    # fit classifier\n",
    "    lda.fit(X_train, y_train)\n",
    "\n",
    "    # running classifier: test classifier on sliding window\n",
    "    score_this_window = []\n",
    "    for n in w_start:\n",
    "        X_test = csp.transform(epochs_data[test_idx][:, :, n:(n + w_length)])\n",
    "        score_this_window.append(lda.score(X_test, y_test))\n",
    "    scores_windows.append(score_this_window)\n",
    "\n",
    "# Plot scores over time\n",
    "w_times = (w_start + w_length / 2.) / sfreq + epochs.tmin\n",
    "\n",
    "plt.figure()\n",
    "plt.plot(w_times, np.mean(scores_windows, 0), label='Score')\n",
    "plt.axvline(0, linestyle='--', color='k', label='Onset')\n",
    "plt.axhline(0.5, linestyle='-', color='k', label='Chance')\n",
    "plt.xlabel('time (s)')\n",
    "plt.ylabel('classification accuracy')\n",
    "plt.title('Classification score over time')\n",
    "plt.legend(loc='lower right')\n",
    "plt.show()\n",
    "\n",
    "##############################################################################\n",
    "# References\n",
    "# ----------\n",
    "# .. footbibliography::"
   ]
  },
  {
   "cell_type": "code",
   "execution_count": null,
   "id": "2cb27871",
   "metadata": {},
   "outputs": [],
   "source": [
    "mne.channels.get_builtin_montages()"
   ]
  },
  {
   "cell_type": "code",
   "execution_count": null,
   "id": "30bc1aec",
   "metadata": {
    "scrolled": true
   },
   "outputs": [],
   "source": [
    "# chanPos[\"ch_pos\"].keys()\n",
    "montage = make_standard_montage(\"GSN-HydroCel-64_1.0\")\n",
    "chanPos = montage.get_positions()\n",
    "list(chanPos[\"ch_pos\"].keys())"
   ]
  },
  {
   "cell_type": "code",
   "execution_count": null,
   "id": "5ef032aa",
   "metadata": {},
   "outputs": [],
   "source": [
    "fname = \"/mnt/sda1/shivam/Thesis/Grasp Experiment/Data/Raw/P03.xdf\"\n",
    "streams, header = pyxdf.load_xdf(fname)\n",
    "data = streams[0][\"time_series\"].T\n",
    "# assert data.shape[0] == 64  # four raw EEG plus one stim channel\n",
    "# data[:4:2] -= data[1:4:2]  # subtract (rereference) to get two bipolar EEG\n",
    "# data = data[::2]  # subselect\n",
    "# data[:2] *= (1e-6 / 50 / 2)  # uV -> V and preamp gain\n",
    "sfreq = float(streams[0][\"info\"][\"nominal_srate\"][0])\n",
    "info = mne.create_info(64, sfreq, [\"eeg\"] * 64)\n",
    "raw = mne.io.RawArray(data, info)"
   ]
  },
  {
   "cell_type": "code",
   "execution_count": null,
   "id": "875acf1a",
   "metadata": {},
   "outputs": [],
   "source": [
    "data.shape"
   ]
  },
  {
   "cell_type": "code",
   "execution_count": null,
   "id": "c08e0c9f",
   "metadata": {
    "scrolled": true
   },
   "outputs": [],
   "source": [
    "import numpy as np\n",
    "import matplotlib.pyplot as plt\n",
    "\n",
    "from sklearn.pipeline import Pipeline\n",
    "from sklearn.discriminant_analysis import LinearDiscriminantAnalysis\n",
    "from sklearn.model_selection import ShuffleSplit, cross_val_score\n",
    "\n",
    "from mne import Epochs, pick_types, events_from_annotations\n",
    "from mne.channels import make_standard_montage\n",
    "from mne.io import concatenate_raws, read_raw_edf\n",
    "from mne.datasets import eegbci\n",
    "from mne.decoding import CSP\n",
    "\n",
    "print(__doc__)\n",
    "\n",
    "# #############################################################################\n",
    "# # Set parameters and read data\n",
    "\n",
    "# avoid classification of evoked responses by using epochs that start 1s after\n",
    "# cue onset.\n",
    "tmin, tmax = -1., 4.\n",
    "event_id = dict(hands=2, feet=3)\n",
    "subject = 1\n",
    "runs = [6, 10, 14]  # motor imagery: hands vs feet\n",
    "\n",
    "# raw_fnames = eegbci.load_data(subject, runs)\n",
    "# raw = concatenate_raws([read_raw_edf(f, preload=True) for f in raw_fnames])\n",
    "# eegbci.standardize(raw)  # set channel names\n",
    "# montage = make_standard_montage('standard_1005')\n",
    "# raw.set_montage(montage)\n",
    "\n",
    "# raw = mne.io.read_raw_eeglab(\"/mnt/sda1/shivam/Thesis/Grasp Experiment/Data/Raw/P03.xdf\")\n",
    "# montage = make_standard_montage(\"GSN-HydroCel-64_1.0\")\n",
    "# raw.set_montage(montage)\n",
    "\n",
    "# Apply band-pass filter\n",
    "raw.filter(7., 30., fir_design='firwin', skip_by_annotation='edge')\n",
    "\n",
    "events, _ = events_from_annotations(raw, event_id=dict(T1=2, T2=3))\n",
    "\n",
    "picks = pick_types(raw.info, meg=False, eeg=True, stim=False, eog=False,\n",
    "                   exclude='bads')\n",
    "\n",
    "# Read epochs (train will be done only between 1 and 2s)\n",
    "# Testing will be done with a running classifier\n",
    "epochs = Epochs(raw, events, event_id, tmin, tmax, proj=True, picks=picks,\n",
    "                baseline=None, preload=True)\n",
    "epochs_train = epochs.copy().crop(tmin=1., tmax=2.)\n",
    "labels = epochs.events[:, -1] - 2"
   ]
  },
  {
   "cell_type": "code",
   "execution_count": null,
   "id": "cb3d7ebc",
   "metadata": {},
   "outputs": [],
   "source": []
  },
  {
   "cell_type": "raw",
   "id": "26a75d51",
   "metadata": {},
   "source": []
  },
  {
   "cell_type": "code",
   "execution_count": null,
   "id": "6c8bdf3b",
   "metadata": {},
   "outputs": [],
   "source": [
    "# Define a monte-carlo cross-validation generator (reduce variance):\n",
    "scores = []\n",
    "epochs_data = epochs.get_data()\n",
    "epochs_data_train = epochs_train.get_data()\n",
    "cv = ShuffleSplit(10, test_size=0.2, random_state=42)\n",
    "cv_split = cv.split(epochs_data_train)\n",
    "\n",
    "# Assemble a classifier\n",
    "lda = LinearDiscriminantAnalysis()\n",
    "csp = CSP(n_components=4, reg=None, log=True, norm_trace=False)\n",
    "\n",
    "# Use scikit-learn Pipeline with cross_val_score function\n",
    "clf = Pipeline([('CSP', csp), ('LDA', lda)])\n",
    "scores = cross_val_score(clf, epochs_data_train, labels, cv=cv, n_jobs=None)\n",
    "\n",
    "# Printing the results\n",
    "class_balance = np.mean(labels == labels[0])\n",
    "class_balance = max(class_balance, 1. - class_balance)\n",
    "print(\"Classification accuracy: %f / Chance level: %f\" % (np.mean(scores),\n",
    "                                                          class_balance))\n",
    "\n",
    "# plot CSP patterns estimated on full data for visualization\n",
    "csp.fit_transform(epochs_data, labels)\n",
    "\n",
    "csp.plot_patterns(epochs.info, ch_type='eeg', units='Patterns (AU)', size=1.5)"
   ]
  },
  {
   "cell_type": "code",
   "execution_count": null,
   "id": "e779a58c",
   "metadata": {},
   "outputs": [],
   "source": [
    "epochs_data.shape, labels.shape"
   ]
  },
  {
   "cell_type": "code",
   "execution_count": null,
   "id": "3ee95dda",
   "metadata": {},
   "outputs": [],
   "source": [
    "sfreq = raw.info['sfreq']\n",
    "w_length = int(sfreq * 0.5)   # running classifier: window length\n",
    "w_step = int(sfreq * 0.1)  # running classifier: window step size\n",
    "w_start = np.arange(0, epochs_data.shape[2] - w_length, w_step)\n",
    "\n",
    "scores_windows = []\n",
    "\n",
    "for train_idx, test_idx in cv_split:\n",
    "    y_train, y_test = labels[train_idx], labels[test_idx]\n",
    "\n",
    "    X_train = csp.fit_transform(epochs_data_train[train_idx], y_train)\n",
    "    X_test = csp.transform(epochs_data_train[test_idx])\n",
    "\n",
    "    # fit classifier\n",
    "    lda.fit(X_train, y_train)\n",
    "\n",
    "    # running classifier: test classifier on sliding window\n",
    "    score_this_window = []\n",
    "    for n in w_start:\n",
    "        X_test = csp.transform(epochs_data[test_idx][:, :, n:(n + w_length)])\n",
    "        score_this_window.append(lda.score(X_test, y_test))\n",
    "    scores_windows.append(score_this_window)\n",
    "\n",
    "# Plot scores over time\n",
    "w_times = (w_start + w_length / 2.) / sfreq + epochs.tmin\n",
    "\n",
    "plt.figure()\n",
    "plt.plot(w_times, np.mean(scores_windows, 0), label='Score')\n",
    "plt.axvline(0, linestyle='--', color='k', label='Onset')\n",
    "plt.axhline(0.5, linestyle='-', color='k', label='Chance')\n",
    "plt.xlabel('time (s)')\n",
    "plt.ylabel('classification accuracy')\n",
    "plt.title('Classification score over time')\n",
    "plt.legend(loc='lower right')\n",
    "plt.show()"
   ]
  },
  {
   "cell_type": "code",
   "execution_count": null,
   "id": "0ba5b02f",
   "metadata": {},
   "outputs": [],
   "source": []
  },
  {
   "cell_type": "code",
   "execution_count": null,
   "id": "e0a163d4",
   "metadata": {},
   "outputs": [],
   "source": [
    "# Assemble a classifier\n",
    "lda = LinearDiscriminantAnalysis()\n",
    "csp = CSP(n_components=4, reg=None, log=True, norm_trace=False)\n",
    "\n",
    "# plot CSP patterns estimated on full data for visualization\n",
    "csp.fit_transform(X, y)\n",
    "\n",
    "csp.plot_patterns(epochs.info, ch_type='eeg', units='Patterns (AU)', size=1.5)"
   ]
  },
  {
   "cell_type": "code",
   "execution_count": null,
   "id": "17f44193",
   "metadata": {},
   "outputs": [],
   "source": []
  }
 ],
 "metadata": {
  "kernelspec": {
   "display_name": "Python 3 (ipykernel)",
   "language": "python",
   "name": "python3"
  },
  "language_info": {
   "codemirror_mode": {
    "name": "ipython",
    "version": 3
   },
   "file_extension": ".py",
   "mimetype": "text/x-python",
   "name": "python",
   "nbconvert_exporter": "python",
   "pygments_lexer": "ipython3",
   "version": "3.9.12"
  }
 },
 "nbformat": 4,
 "nbformat_minor": 5
}
